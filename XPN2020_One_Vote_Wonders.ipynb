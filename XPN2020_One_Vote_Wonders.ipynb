{
 "cells": [
  {
   "cell_type": "markdown",
   "metadata": {
    "hideCode": true,
    "hidePrompt": true
   },
   "source": [
    "# XPN 2020 One Vote Wonders\n",
    "\n",
    "The main play list for [XPN 202](https://xpn.org/music-artist/885-countdown/2020/),\n",
    "was paused just after mindnight to allow the last 100 to be played starting at 8am.\n",
    "From 6 to 8, there is a mini playlist of One Vote Wonders,\n",
    "songs that got only one vote.\n",
    "Let's see if we can throw something together for that in real time.\n",
    "(oversleeping didn't help)"
   ]
  },
  {
   "cell_type": "code",
   "execution_count": 1,
   "metadata": {
    "collapsed": true,
    "hideCode": true,
    "hidePrompt": true
   },
   "outputs": [],
   "source": [
    "%matplotlib inline\n",
    "from IPython.display import display, HTML"
   ]
  },
  {
   "cell_type": "markdown",
   "metadata": {
    "hideCode": true,
    "hidePrompt": true
   },
   "source": [
    "# Status\n",
    "\n",
    "Well just kind of starting and it already over.\n",
    "We'll see if I can think of something interestin."
   ]
  },
  {
   "cell_type": "markdown",
   "metadata": {
    "hideCode": true,
    "hidePrompt": true
   },
   "source": [
    "## Loading the Data\n",
    "\n",
    "Most people are probably not too interested in how I pull the data, clean it and augment it.\n",
    "If you do the details are in my [Data Loading notebook](DataLoading.ipynb).\n",
    "If you want a copy of the raw data to play with yourself, \n",
    "feel free to look at [xpn2020_onsies.csv](./data/xpn2020_onsies.csv).\n",
    "If you do something interesting with the data,\n",
    "please let me know.\n",
    "And tell the station and post to [twitter](https://twitter.com) with the hash tag `#XPN2020`.\n",
    "I'm sure other listeners will be glad to see what you have done."
   ]
  },
  {
   "cell_type": "code",
   "execution_count": 2,
   "metadata": {
    "collapsed": false,
    "hideCode": true,
    "hidePrompt": true
   },
   "outputs": [
    {
     "data": {
      "text/html": [
       "<p>So far, as of Dec 17 08:00AM, we have seen 24 tracks with 24 unique titles, from 24 artists.</p>"
      ],
      "text/plain": [
       "<IPython.core.display.HTML object>"
      ]
     },
     "execution_count": 2,
     "metadata": {},
     "output_type": "execute_result"
    }
   ],
   "source": [
    "import pandas as pd\n",
    "from datetime import date, datetime, time, timedelta\n",
    "from os import path\n",
    "data_dir = './data'\n",
    "playlist_file = path.join(data_dir, 'xpn2020_onsies.csv')\n",
    "playlist = pd.read_csv(playlist_file)\n",
    "\n",
    "playlist['Air Time'] = pd.to_datetime(playlist['Air Time'], errors='coerce')\n",
    "last_play = playlist.loc[playlist['Air Time'].idxmax()]\n",
    "end_time = last_play['Air Time'] + timedelta(seconds = 60 * last_play['Duration'])\n",
    "HTML('<p>So far, as of %s, we have seen %d tracks with %d unique titles, from %d artists.</p>' %\\\n",
    "    (end_time.strftime('%b %d %I:%M%p'),\n",
    "     len(playlist),\n",
    "     playlist.describe(include='all')['Title']['unique'], \n",
    "     playlist.describe(include='all')['Artist']['unique']\n",
    "     ))"
   ]
  },
  {
   "cell_type": "markdown",
   "metadata": {
    "hideCode": true,
    "hidePrompt": true
   },
   "source": [
    "# The Whole Thing\n",
    "\n",
    "The playlist isn't going to be big.\n",
    "Sorting by year or counting plays by artist might not be all that useful.\n",
    "Let's look at the whole thing."
   ]
  },
  {
   "cell_type": "code",
   "execution_count": 3,
   "metadata": {
    "collapsed": false,
    "hideCode": true,
    "hidePrompt": true
   },
   "outputs": [
    {
     "data": {
      "text/html": [
       "<table border=\"1\" class=\"dataframe\">\n",
       "  <thead>\n",
       "    <tr style=\"text-align: right;\">\n",
       "      <th>Artist</th>\n",
       "      <th>Title</th>\n",
       "      <th>Year</th>\n",
       "    </tr>\n",
       "  </thead>\n",
       "  <tbody>\n",
       "    <tr>\n",
       "      <td>J. J. Cale</td>\n",
       "      <td>After Midnight</td>\n",
       "      <td>0</td>\n",
       "    </tr>\n",
       "    <tr>\n",
       "      <td>Shocking Blue</td>\n",
       "      <td>Venus</td>\n",
       "      <td>1969</td>\n",
       "    </tr>\n",
       "    <tr>\n",
       "      <td>Ben Folds Five</td>\n",
       "      <td>Brick</td>\n",
       "      <td>1994</td>\n",
       "    </tr>\n",
       "    <tr>\n",
       "      <td>Sarah McLachlan</td>\n",
       "      <td>Sweet Surrender</td>\n",
       "      <td>1997</td>\n",
       "    </tr>\n",
       "    <tr>\n",
       "      <td>World Party</td>\n",
       "      <td>When The Rainbow Comes</td>\n",
       "      <td>1990</td>\n",
       "    </tr>\n",
       "    <tr>\n",
       "      <td>Suzanne Vega</td>\n",
       "      <td>Marlene On The Wall</td>\n",
       "      <td>1985</td>\n",
       "    </tr>\n",
       "    <tr>\n",
       "      <td>Big Joe Turner</td>\n",
       "      <td>Shake Rattle And Roll</td>\n",
       "      <td>1992</td>\n",
       "    </tr>\n",
       "    <tr>\n",
       "      <td>Wilbert Harrison</td>\n",
       "      <td>Let's Work Together (Parts 1 &amp; 2)</td>\n",
       "      <td>1994</td>\n",
       "    </tr>\n",
       "    <tr>\n",
       "      <td>The Pretenders</td>\n",
       "      <td>Talk Of The Town</td>\n",
       "      <td>1980</td>\n",
       "    </tr>\n",
       "    <tr>\n",
       "      <td>The Proclaimers</td>\n",
       "      <td>I'm Gonna Be (500 Miles)</td>\n",
       "      <td>1987</td>\n",
       "    </tr>\n",
       "    <tr>\n",
       "      <td>Zero 7</td>\n",
       "      <td>In The Waiting Line</td>\n",
       "      <td>2001</td>\n",
       "    </tr>\n",
       "    <tr>\n",
       "      <td>Sade</td>\n",
       "      <td>Smooth Operator</td>\n",
       "      <td>1984</td>\n",
       "    </tr>\n",
       "    <tr>\n",
       "      <td>The Roches</td>\n",
       "      <td>Hammond Song</td>\n",
       "      <td>1979</td>\n",
       "    </tr>\n",
       "    <tr>\n",
       "      <td>Ray Lamontagne</td>\n",
       "      <td>Trouble</td>\n",
       "      <td>2004</td>\n",
       "    </tr>\n",
       "    <tr>\n",
       "      <td>Beck</td>\n",
       "      <td>Where It's At</td>\n",
       "      <td>1996</td>\n",
       "    </tr>\n",
       "    <tr>\n",
       "      <td>St. Vincent</td>\n",
       "      <td>Los Ageless</td>\n",
       "      <td>2017</td>\n",
       "    </tr>\n",
       "    <tr>\n",
       "      <td>Strand Of Oaks</td>\n",
       "      <td>Goshen '97</td>\n",
       "      <td>2014</td>\n",
       "    </tr>\n",
       "    <tr>\n",
       "      <td>Wire</td>\n",
       "      <td>Three Girl Rhumba</td>\n",
       "      <td>1977</td>\n",
       "    </tr>\n",
       "    <tr>\n",
       "      <td>Run-DMC</td>\n",
       "      <td>It's Tricky</td>\n",
       "      <td>1986</td>\n",
       "    </tr>\n",
       "    <tr>\n",
       "      <td>Missy Elliott</td>\n",
       "      <td>Work It</td>\n",
       "      <td>2002</td>\n",
       "    </tr>\n",
       "    <tr>\n",
       "      <td>Wu-Tang Clan</td>\n",
       "      <td>C.R.E.A.M. (Cash Rules Everything Around Me)</td>\n",
       "      <td>1994</td>\n",
       "    </tr>\n",
       "    <tr>\n",
       "      <td>Robert Hazard</td>\n",
       "      <td>Escalator Of Life</td>\n",
       "      <td>1982</td>\n",
       "    </tr>\n",
       "    <tr>\n",
       "      <td>Rickie Lee Jones</td>\n",
       "      <td>Chuck E's In Love</td>\n",
       "      <td>1979</td>\n",
       "    </tr>\n",
       "    <tr>\n",
       "      <td>Taj Mahal</td>\n",
       "      <td>Ain't Gwine Whistle Dixie</td>\n",
       "      <td>1969</td>\n",
       "    </tr>\n",
       "  </tbody>\n",
       "</table>"
      ],
      "text/plain": [
       "<IPython.core.display.HTML object>"
      ]
     },
     "execution_count": 3,
     "metadata": {},
     "output_type": "execute_result"
    }
   ],
   "source": [
    "HTML(playlist.to_html(index=False, columns = ['Artist', 'Title','Year']))"
   ]
  },
  {
   "cell_type": "markdown",
   "metadata": {
    "hideCode": true,
    "hidePrompt": true
   },
   "source": [
    "### Comparision with other XPN Playlists\n",
    "\n",
    "#### 885 Best and 88 Worst\n",
    "\n",
    "Back in 2014 there was a very similar\n",
    "[885 All Time Greatest Song](https://xpn.org/music-artist/885-countdown/2014/885-countdown-2014) countdown.\n",
    "There were over 300 tracks in that that didn't happen in the long XPN 2020.\n",
    "Did any only get one vote?"
   ]
  },
  {
   "cell_type": "code",
   "execution_count": 4,
   "metadata": {
    "collapsed": false,
    "hideCode": true,
    "hidePrompt": true
   },
   "outputs": [
    {
     "data": {
      "text/html": [
       "<p>Of the 24 One Vote Wonders played so far, 2 were in 2014's 885 Best play list."
      ],
      "text/plain": [
       "<IPython.core.display.HTML object>"
      ]
     },
     "execution_count": 4,
     "metadata": {},
     "output_type": "execute_result"
    }
   ],
   "source": [
    "def overlapping_songs(list1, list2):\n",
    "    import string\n",
    "    list1a = list1.copy()\n",
    "    list2a = list2.copy()\n",
    "    list1a['Title_lc'] = list1a['Title'].str.lower().str.translate(None, string.punctuation).str.translate(None, string.whitespace)\n",
    "    list1a['Artist_lc'] = list1a['Artist'].str.lower().str.translate(None, string.punctuation).str.translate(None, string.whitespace)\n",
    "    list2a['Title_lc'] = list2a['Title'].str.lower().str.translate(None, string.punctuation).str.translate(None, string.whitespace)\n",
    "    list2a['Artist_lc'] = list2a['Artist'].str.lower().str.translate(None, string.punctuation).str.translate(None, string.whitespace)\n",
    "    intersect = pd.merge(list1a, list2a, how='inner', on=['Title_lc', 'Artist_lc'])\n",
    "    intersect.drop(intersect.columns.difference(['Title_x','Artist_x']), 1, inplace=True)\n",
    "    intersect.columns = ['Artist', 'Title']\n",
    "    return intersect\n",
    "\n",
    "    \n",
    "best885_file = path.join(data_dir, '885best.csv')\n",
    "best885 = pd.read_csv(best885_file)\n",
    "besties = overlapping_songs(playlist, best885)\n",
    "besties.to_csv(path.join(data_dir, 'XPN2020_onsies_and_885Best.csv'), index=False)\n",
    "\n",
    "s = \"<p>Of the %d One Vote Wonders played so far, \" + \\\n",
    "    \"%d were in 2014's 885 Best play list.\"\n",
    "HTML(s % (len(playlist), len(besties)))"
   ]
  },
  {
   "cell_type": "code",
   "execution_count": 5,
   "metadata": {
    "collapsed": false,
    "hideCode": true,
    "hidePrompt": true
   },
   "outputs": [
    {
     "data": {
      "text/html": [
       "<table border=\"1\" class=\"dataframe\">\n",
       "  <thead>\n",
       "    <tr style=\"text-align: right;\">\n",
       "      <th>Artist</th>\n",
       "      <th>Title</th>\n",
       "    </tr>\n",
       "  </thead>\n",
       "  <tbody>\n",
       "    <tr>\n",
       "      <td>Ray Lamontagne</td>\n",
       "      <td>Trouble</td>\n",
       "    </tr>\n",
       "    <tr>\n",
       "      <td>Beck</td>\n",
       "      <td>Where It's At</td>\n",
       "    </tr>\n",
       "  </tbody>\n",
       "</table>"
      ],
      "text/plain": [
       "<IPython.core.display.HTML object>"
      ]
     },
     "execution_count": 5,
     "metadata": {},
     "output_type": "execute_result"
    }
   ],
   "source": [
    "HTML(besties.to_html(index=False, columns=['Artist', 'Title',]))"
   ]
  }
 ],
 "metadata": {
  "hide_code_all_hidden": true,
  "kernelspec": {
   "display_name": "Python 2",
   "language": "python",
   "name": "python2"
  },
  "language_info": {
   "codemirror_mode": {
    "name": "ipython",
    "version": 2
   },
   "file_extension": ".py",
   "mimetype": "text/x-python",
   "name": "python",
   "nbconvert_exporter": "python",
   "pygments_lexer": "ipython2",
   "version": "2.7.12"
  }
 },
 "nbformat": 4,
 "nbformat_minor": 2
}
