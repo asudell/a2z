{
 "cells": [
  {
   "cell_type": "markdown",
   "metadata": {},
   "source": [
    "# AtoZ Leftovers\n",
    "\n",
    "Last December, [WXPN](http://www.xpn.org/) ran a huge multi-week play list,\n",
    "[XPN A to Z](http://xpn.org/music-artist/xpn-a-z) playing their catalog alphabetically.\n",
    "At the time, questions about sorting and such prompted me, among others,\n",
    "to do some analysis like my [AtoZ](AtoZ.ipynb) notebook.\n",
    "At the time there was speculation about things like songs that were numbers,\n",
    "or songs that started with punctuation.\n",
    "Well, the other day they [announced](http://thekey.xpn.org/2017/04/05/xpnatoz/)\n",
    "a followup, [A to Z Leftovers](http://xpn.org/music-artist/az-leftovers).\n",
    "\n",
    "So, let's see what we can learn this time."
   ]
  },
  {
   "cell_type": "code",
   "execution_count": 54,
   "metadata": {
    "collapsed": false
   },
   "outputs": [
    {
     "data": {
      "text/html": [
       "<script>\n",
       "code_show=true; \n",
       "function code_toggle() {\n",
       "    if (code_show){\n",
       "        $('div.input').hide();\n",
       "    } else {\n",
       "        $('div.input').show();\n",
       "    }\n",
       "        code_show = !code_show\n",
       "} \n",
       "$( document ).ready(code_toggle);\n",
       "</script>\n",
       "<form action=\"javascript:code_toggle()\"><input type=\"submit\" value=\"Click here to toggle on/off the raw code.\"></form>"
      ],
      "text/plain": [
       "<IPython.core.display.HTML object>"
      ]
     },
     "execution_count": 54,
     "metadata": {},
     "output_type": "execute_result"
    }
   ],
   "source": [
    "%matplotlib inline\n",
    "from IPython.display import display, HTML\n",
    "\n",
    "HTML('''<script>\n",
    "code_show=true; \n",
    "function code_toggle() {\n",
    "    if (code_show){\n",
    "        $('div.input').hide();\n",
    "    } else {\n",
    "        $('div.input').show();\n",
    "    }\n",
    "        code_show = !code_show\n",
    "} \n",
    "$( document ).ready(code_toggle);\n",
    "</script>\n",
    "<form action=\"javascript:code_toggle()\"><input type=\"submit\" value=\"Click here to toggle on/off the raw code.\"></form>''')\n"
   ]
  },
  {
   "cell_type": "markdown",
   "metadata": {},
   "source": [
    "## Getting the Data\n",
    "\n",
    "For starters, we can just screen scrape the [playlist page](http://xpn.org/music-artist/az-leftovers).\n",
    "Since the list is shorter, it's all inline."
   ]
  },
  {
   "cell_type": "code",
   "execution_count": 87,
   "metadata": {
    "collapsed": false
   },
   "outputs": [],
   "source": [
    "\n",
    "from lxml import html\n",
    "import requests\n",
    "import pandas as pd\n",
    "from datetime import date, datetime, time\n",
    "import re\n",
    "\n",
    "timeslots = [(datetime(2017, 4, 7, 19, 0), datetime(2017, 4, 7, 23, 0)),\n",
    "             (datetime(2017, 4, 8, 10, 0), datetime(2017, 4, 8, 17, 0)),\n",
    "             (datetime(2017, 4, 9, 12, 0), datetime(2017, 4, 9, 17, 0))]\n",
    "\n",
    "today = date.today()\n",
    "date_regex = re.compile(\"^\\d{2}:\\d{2}\\s\")\n",
    "leftovers = pd.DataFrame(None, columns = ('Title', 'Artist', 'AirTime'))\n",
    "\n",
    "for slot in timeslots:\n",
    "    d = slot[0].date()\n",
    "    if d <= today:\n",
    "        page = requests.post('http://xpn.org/playlists/xpn-playlist',\n",
    "                             data={'playlistdate': \"%02d-%02d-%04d\" % (d.month,\n",
    "                                                                       d.day,\n",
    "                                                                       d.year)})\n",
    "        tree = html.fromstring(page.content)\n",
    "        tracks = tree.xpath('//h3/a/text()')\n",
    "        for track in tracks:\n",
    "                if date_regex.match(track) and track[9:10] != '|':\n",
    "                    (artist, title) = track[9:].split(' - ', 1)\n",
    "                    hour = int(track[0:2]) % 12\n",
    "                    minute = int(track[3:5])\n",
    "                    if track[6:8] == 'pm': hour += 12\n",
    "                    air_time = datetime(d.year, d.month, d.day,\n",
    "                            hour, minute)\n",
    "                    if slot[0] <= air_time < slot[1]:\n",
    "                        leftovers = leftovers.append({'Title': title,\n",
    "                                                      'Artist': artist,\n",
    "                                                      'AirTime': air_time},\n",
    "                                                     ignore_index=True)\n",
    "\n",
    "                                                    \n",
    "# page = requests.get('http://xpn.org/music-artist/az-leftovers')\n",
    "# tree = html.fromstring(page.content)\n",
    "# tracks = tree.xpath('//div[@class=\"item-page\"]//ul/li/text()')\n",
    "# for track in tracks:\n",
    "#     (title, artist) = track.split(' - ', 1)\n",
    "#     leftovers = leftovers.append({'Title': title, 'Artist': artist}, ignore_index=True)\n",
    "\n"
   ]
  },
  {
   "cell_type": "markdown",
   "metadata": {},
   "source": [
    "## Data Enrichment\n",
    "\n",
    "This will improve but for now,\n",
    "just sort things by time and pull out the first character or the title as a classifier."
   ]
  },
  {
   "cell_type": "code",
   "execution_count": 90,
   "metadata": {
    "collapsed": false
   },
   "outputs": [],
   "source": [
    "leftovers = leftovers.sort_values(by = ('AirTime'))\n",
    "leftovers = leftovers.join(leftovers.apply(lambda x: x[0][0].upper(), axis=1).to_frame('First Character'))"
   ]
  },
  {
   "cell_type": "markdown",
   "metadata": {},
   "source": [
    "## Examining the data\n",
    "\n",
    "Let's look at a few rows and get soe stats,\n",
    "just so we know we're working ok."
   ]
  },
  {
   "cell_type": "code",
   "execution_count": 91,
   "metadata": {
    "collapsed": false
   },
   "outputs": [
    {
     "data": {
      "text/html": [
       "<table border=\"1\" class=\"dataframe\">\n",
       "  <thead>\n",
       "    <tr style=\"text-align: right;\">\n",
       "      <th></th>\n",
       "      <th>Title</th>\n",
       "      <th>Artist</th>\n",
       "      <th>AirTime</th>\n",
       "      <th>First Character</th>\n",
       "    </tr>\n",
       "  </thead>\n",
       "  <tbody>\n",
       "    <tr>\n",
       "      <th>51</th>\n",
       "      <td>#1 Crush</td>\n",
       "      <td>Garbage</td>\n",
       "      <td>2017-04-07 19:02:00</td>\n",
       "      <td>#</td>\n",
       "    </tr>\n",
       "    <tr>\n",
       "      <th>50</th>\n",
       "      <td>#1 Hit Song</td>\n",
       "      <td>Minutemen</td>\n",
       "      <td>2017-04-07 19:06:00</td>\n",
       "      <td>#</td>\n",
       "    </tr>\n",
       "    <tr>\n",
       "      <th>49</th>\n",
       "      <td>#34</td>\n",
       "      <td>Dave Matthews Band</td>\n",
       "      <td>2017-04-07 19:11:00</td>\n",
       "      <td>#</td>\n",
       "    </tr>\n",
       "    <tr>\n",
       "      <th>48</th>\n",
       "      <td>#41</td>\n",
       "      <td>Dave Matthews Band</td>\n",
       "      <td>2017-04-07 19:16:00</td>\n",
       "      <td>#</td>\n",
       "    </tr>\n",
       "    <tr>\n",
       "      <th>47</th>\n",
       "      <td>#9 Dream</td>\n",
       "      <td>John Lennon</td>\n",
       "      <td>2017-04-07 19:24:00</td>\n",
       "      <td>#</td>\n",
       "    </tr>\n",
       "  </tbody>\n",
       "</table>"
      ],
      "text/plain": [
       "<IPython.core.display.HTML object>"
      ]
     },
     "execution_count": 91,
     "metadata": {},
     "output_type": "execute_result"
    }
   ],
   "source": [
    "HTML(leftovers.head(5).to_html())"
   ]
  },
  {
   "cell_type": "code",
   "execution_count": 92,
   "metadata": {
    "collapsed": false
   },
   "outputs": [
    {
     "data": {
      "text/html": [
       "<table border=\"1\" class=\"dataframe\">\n",
       "  <thead>\n",
       "    <tr style=\"text-align: right;\">\n",
       "      <th></th>\n",
       "      <th>Title</th>\n",
       "      <th>Artist</th>\n",
       "      <th>AirTime</th>\n",
       "      <th>First Character</th>\n",
       "    </tr>\n",
       "  </thead>\n",
       "  <tbody>\n",
       "    <tr>\n",
       "      <th>count</th>\n",
       "      <td>124</td>\n",
       "      <td>124</td>\n",
       "      <td>124</td>\n",
       "      <td>124</td>\n",
       "    </tr>\n",
       "    <tr>\n",
       "      <th>unique</th>\n",
       "      <td>115</td>\n",
       "      <td>106</td>\n",
       "      <td>123</td>\n",
       "      <td>5</td>\n",
       "    </tr>\n",
       "    <tr>\n",
       "      <th>top</th>\n",
       "      <td>#9 Dream</td>\n",
       "      <td>Elvis Costello</td>\n",
       "      <td>2017-04-08 13:45:00</td>\n",
       "      <td>(</td>\n",
       "    </tr>\n",
       "    <tr>\n",
       "      <th>freq</th>\n",
       "      <td>3</td>\n",
       "      <td>3</td>\n",
       "      <td>2</td>\n",
       "      <td>67</td>\n",
       "    </tr>\n",
       "    <tr>\n",
       "      <th>first</th>\n",
       "      <td>NaN</td>\n",
       "      <td>NaN</td>\n",
       "      <td>2017-04-07 19:02:00</td>\n",
       "      <td>NaN</td>\n",
       "    </tr>\n",
       "    <tr>\n",
       "      <th>last</th>\n",
       "      <td>NaN</td>\n",
       "      <td>NaN</td>\n",
       "      <td>2017-04-08 14:55:00</td>\n",
       "      <td>NaN</td>\n",
       "    </tr>\n",
       "  </tbody>\n",
       "</table>"
      ],
      "text/plain": [
       "<IPython.core.display.HTML object>"
      ]
     },
     "execution_count": 92,
     "metadata": {},
     "output_type": "execute_result"
    }
   ],
   "source": [
    "HTML(leftovers.describe().to_html())"
   ]
  },
  {
   "cell_type": "markdown",
   "metadata": {},
   "source": [
    "## First Characters of Titles\n",
    "\n",
    "That these are non-alphabetic is how we got here.\n",
    "At this point, on Saturday morning, the list has been pretty parenthesis heavy.\n",
    "(At least it was until I started working on this bit.)\n",
    "So, it's not clear yet how to best look a this,\n",
    "but we'll take a swing at it.\n",
    "\n",
    "First, just bucket by first character."
   ]
  },
  {
   "cell_type": "code",
   "execution_count": 93,
   "metadata": {
    "collapsed": false
   },
   "outputs": [
    {
     "data": {
      "text/plain": [
       "<matplotlib.text.Text at 0x7fbba76d5910>"
      ]
     },
     "execution_count": 93,
     "metadata": {},
     "output_type": "execute_result"
    },
    {
     "data": {
      "image/png": "[encoded data removed]",
      "text/plain": [
       "<matplotlib.figure.Figure at 0x7fbba77f0cd0>"
      ]
     },
     "metadata": {},
     "output_type": "display_data"
    }
   ],
   "source": [
    "import seaborn as sns\n",
    "import matplotlib.pyplot as plt\n",
    "f, ax = plt.subplots(figsize=(6, 4))\n",
    "sns.set_color_codes('pastel')\n",
    "sns.countplot(y='First Character', data=leftovers, color='b')\n",
    "ax.set(xlabel=\"Tracks Played\")\n",
    "ax.set_title('Leftover Songs by First Character')"
   ]
  },
  {
   "cell_type": "markdown",
   "metadata": {},
   "source": [
    "Then breakdown the parentheticals by first word.\n",
    "Honestly, I'm not sure it's all that interesting."
   ]
  },
  {
   "cell_type": "code",
   "execution_count": 94,
   "metadata": {
    "collapsed": false,
    "scrolled": false
   },
   "outputs": [
    {
     "data": {
      "text/plain": [
       "<matplotlib.text.Text at 0x7fbba7728450>"
      ]
     },
     "execution_count": 94,
     "metadata": {},
     "output_type": "execute_result"
    },
    {
     "data": {
      "image/png": "[encoded data removed]",
      "text/plain": [
       "<matplotlib.figure.Figure at 0x7fbbad203f10>"
      ]
     },
     "metadata": {},
     "output_type": "display_data"
    }
   ],
   "source": [
    "paran_words = leftovers[leftovers['Title'].str.startswith('(')]['Title'].str.extract('([\\w\\']+)').value_counts()\n",
    "paran_word_freq = pd.DataFrame(zip(paran_words.keys().tolist(), paran_words.tolist()),\n",
    "                               columns=('First Word', 'Count'))\n",
    "f, ax = plt.subplots(figsize=(6, 6))\n",
    "sns.barplot(y='First Word', x='Count', data=paran_word_freq[paran_word_freq['Count'] > 1],\n",
    "           orient='h', color='b')\n",
    "ax.set(xlabel='Tracks played')\n",
    "ax.set_title('Frequency of First words in Parenthetical Titles')\n",
    "                               \n"
   ]
  },
  {
   "cell_type": "markdown",
   "metadata": {},
   "source": [
    "##  Breakdown by Artist\n",
    "\n",
    "In the original playlist, the Beatles dominated the counts.\n",
    "But in the leftovers, not so much."
   ]
  },
  {
   "cell_type": "code",
   "execution_count": 95,
   "metadata": {
    "collapsed": false
   },
   "outputs": [
    {
     "data": {
      "text/plain": [
       "[<matplotlib.text.Text at 0x7fbba75e1e10>]"
      ]
     },
     "execution_count": 95,
     "metadata": {},
     "output_type": "execute_result"
    },
    {
     "data": {
      "image/png": "[encoded data removed]",
      "text/plain": [
       "<matplotlib.figure.Figure at 0x7fbba7aff0d0>"
      ]
     },
     "metadata": {},
     "output_type": "display_data"
    }
   ],
   "source": [
    "c = leftovers['Artist'].value_counts()\n",
    "artists = pd.DataFrame(zip(c.keys().tolist(), c.tolist()),\n",
    "                       columns=('Artist', 'count'))\n",
    "f, ax = plt.subplots(figsize=(6, 6))\n",
    "sns.set_color_codes('pastel')\n",
    "sns.barplot(y='Artist', x='count', data=artists[artists['count'] > 1], color='b')\n",
    "ax.set(xlabel=\"Appearences in the Leftovers (so far)\")"
   ]
  }
 ],
 "metadata": {
  "kernelspec": {
   "display_name": "Python 2",
   "language": "python",
   "name": "python2"
  },
  "language_info": {
   "codemirror_mode": {
    "name": "ipython",
    "version": 2
   },
   "file_extension": ".py",
   "mimetype": "text/x-python",
   "name": "python",
   "nbconvert_exporter": "python",
   "pygments_lexer": "ipython2",
   "version": "2.7.12"
  }
 },
 "nbformat": 4,
 "nbformat_minor": 2
}
