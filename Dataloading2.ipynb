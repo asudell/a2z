{
 "cells": [
  {
   "cell_type": "markdown",
   "metadata": {},
   "source": [
    "# Revised Data Loading and Cleaning"
   ]
  },
  {
   "cell_type": "markdown",
   "metadata": {},
   "source": [
    "## Status\n",
    " - The [XPN 90's A to Z](https://xpn.org/program/90s-a-z/) just stated.\n",
    "   I'm redoing things for the new playlist format.\n",
    " - got the playlist fetch/parse working with the new format.\n",
    " - added basic data munging (letter, word, duration)\n",
    " - added years.  Used [playlist page](https://xpn.org/countdown/90s-a-z/)\n",
    "   rather than [MusicBrainz](https://musicbrainz.org)\n",
    "   - turns out this is a confused as what I used to do.\n",
    "     Making sense of music publishing is *real hard*."
   ]
  },
  {
   "cell_type": "markdown",
   "metadata": {},
   "source": [
    "## Overview\n",
    "\n",
    "Last year I took a year off and spent more time listening,\n",
    "since the station did a bang up job on stats\n",
    "and I couldn't think of a value add to do on top.\n",
    "Meanwhile, they did a site redesign and my old playlist scraping code is obsolete.\n",
    "If you want to see how this used to happen, \n",
    "or see data for earlier years, see the old [Data Loading Notebook](DataLoading.ipynb).\n"
   ]
  },
  {
   "cell_type": "markdown",
   "metadata": {},
   "source": [
    "## Setup\n",
    "Under the covers, this is mostly [requests](http://docs.python-requests.org/en/master/) to fetch data,\n",
    "which is now json, so we can use the [internal python library](https://docs.python.org/2.7/library/json.html),\n",
    "and [Pandas](https://pandas.pydata.org/) for data munging.  So let's start with the imports."
   ]
  },
  {
   "cell_type": "code",
   "execution_count": 1,
   "metadata": {
    "collapsed": true
   },
   "outputs": [],
   "source": [
    "%matplotlib inline\n",
    "from IPython.display import display, HTML\n",
    "import requests \n",
    "import json\n",
    "import pandas as pd\n",
    "import numpy as np\n",
    "from datetime import date, datetime, time\n",
    "from os import path, mkdir\n",
    "import re"
   ]
  },
  {
   "cell_type": "markdown",
   "metadata": {},
   "source": [
    "## Setup Cache directories\n",
    "When we can, we'll cache data.\n",
    "This is only partially for speed.\n",
    "Checking in the data allows for repeatability if sources go away or change.\n",
    "And for some partial results, its useful to publish data.\n",
    "There are others in the XPN community doing data analysis or just asking questions,\n",
    "so csv files are nice to leave around."
   ]
  },
  {
   "cell_type": "code",
   "execution_count": 2,
   "metadata": {
    "collapsed": true
   },
   "outputs": [],
   "source": [
    "cache_dir = './cache'\n",
    "playlist_cache_dir = path.join(cache_dir, 'playlists')\n",
    "a2z90s_cache_dir = path.join(cache_dir, 'a2z90s')\n",
    "musicbrainz_cache_dir = path.join(cache_dir, 'musicbrainz')\n",
    "data_dir = './data'\n",
    "\n",
    "for d in (cache_dir, playlist_cache_dir, a2z90s_cache_dir,data_dir, musicbrainz_cache_dir):\n",
    "    if not path.exists(d): mkdir(d)\n"
   ]
  },
  {
   "cell_type": "markdown",
   "metadata": {},
   "source": [
    "## Generic XPN Playlist Scraping\n",
    "[XPN](xpn.org) updated their site this year.\n",
    "The [Playlists](https://xpn.org/wxpn-playlists/) are now Json.\n",
    "They also now have Album info, which is great."
   ]
  },
  {
   "cell_type": "code",
   "execution_count": 3,
   "metadata": {
    "collapsed": false
   },
   "outputs": [],
   "source": [
    "def fetch_daily_playlist(day, cache_dir=None, verbose = False):\n",
    "    \"\"\"\n",
    "    Fetches the XPN playlist for a given date\n",
    "    \n",
    "    Args:\n",
    "        day (datetime.date) : The day to fetch the playlist for\n",
    "        cache_dir (string)  : Path to the cache directory, or None to avoid caching\n",
    "    \n",
    "    Returns:\n",
    "        DataFrame containing Artist, Title, and Album as Strings and Airtime as Timestamp\n",
    "    \"\"\"\n",
    "    songs = pd.DataFrame(None, columns=['Artist', 'Title', 'Album', 'Air Time'])\n",
    "    if cache_dir is not None:\n",
    "        cache_file =  path.join(cache_dir, \"%04d-%02d-%02d.csv\" % \\\n",
    "                                (day.year, day.month, day.day))\n",
    "    if cache_file is not None and path.exists(cache_file):\n",
    "        songs = pd.read_csv(cache_file, encoding='utf-8')\n",
    "        songs['Air Time'] = pd.to_datetime(songs['Air Time'], errors='coerce')\n",
    "        if verbose: print \"Got %d rows from %s\" % (len(songs), cache_file)\n",
    "    else:\n",
    "        # example url\n",
    "        # https://origin.xpn.org/utils/playlist/json/2022-11-30.json\n",
    "        playlist_url = 'https://origin.xpn.org/utils/playlist/json/%s.json' %(day.isoformat())\n",
    "        page = requests.get(playlist_url)\n",
    "        if verbose: print \"fetching %s returned status %s\" % (day.isoformat(), page.status_code)\n",
    "        # return is a json array of playlist entries\n",
    "        # each playlist entry is a dict of\n",
    "        #  - artist : artists name\n",
    "        #  - song : song title\n",
    "        #  - album : album title\n",
    "        #  - timeslice : string containing an iso date with second granularity in Eastern time\n",
    "        #  - image: url of album cover art\n",
    "        #  - streamPreview : url of a short mp3 outtake from the track\n",
    "        # \n",
    "        # Not all track are music.  But shows like World Cafe or Echos\n",
    "        # put the show name, bound by vertical bars, as the artist, so we can skip them easily enough\n",
    "        track_count = 0\n",
    "        for track in page.json():\n",
    "            if track[\"artist\"][0] == '|':\n",
    "                # skip non-song show titles\n",
    "                continue\n",
    "            if verbose: print (\"adding %s %s %s %s\" % (track['artist'], track['song'], track['album'], \n",
    "                                                       datetime.strptime(track['timeslice'],'%Y-%m-%d %H:%M:%S')))\n",
    "            songs = songs.append({'Artist': track['artist'],\n",
    "                                  'Title': track['song'],\n",
    "                                  'Album': track['album'],\n",
    "                                  'Air Time': datetime.strptime(track['timeslice'],'%Y-%m-%d %H:%M:%S')},\n",
    "                                 ignore_index = True)\n",
    "            if verbose: print \"size = %d\" % len(songs)\n",
    "            track_count += 1\n",
    "        \n",
    "        if verbose: print 'added %d tracks' % (track_count)\n",
    "        if cache_file is not None:\n",
    "            songs.to_csv(cache_file, index=False, encoding='utf-8')\n",
    "            if verbose: print 'write %d rows to %s' % (len(songs), cache_file)\n",
    "        \n",
    "    return songs\n",
    "            \n",
    "                \n",
    "            \n",
    "        \n",
    "        "
   ]
  },
  {
   "cell_type": "code",
   "execution_count": 4,
   "metadata": {
    "collapsed": true
   },
   "outputs": [],
   "source": [
    "def fetch_playlist(start, end, cache_dir=None):\n",
    "    \"\"\"\n",
    "    Fetch all the playlist entries for a range of time.\n",
    "    \n",
    "    Args:\n",
    "        start (datetime.datetime) : The inclusive start time to fetch entries for\n",
    "        end (datetime.datetime)   : The exclusive end time to fetch entries for\n",
    "        cache_dir (string)        : path to the cache directory, or None to avoid caching\n",
    "    \n",
    "    Returns:\n",
    "        Dataframe containing Artist, Title, and Album as strings, and Airtime as timestamp\n",
    "    \"\"\"\n",
    "    songs = pd.DataFrame(None, columns=['Artist', 'Title', 'Album', 'Air Time'])\n",
    "    for day in pd.date_range(start.date(), end.date()):\n",
    "        songs = songs.append(fetch_daily_playlist(day.date(), cache_dir), ignore_index=True)\n",
    "    songs = songs[songs['Air Time'] >= start]\n",
    "    songs = songs[songs['Air Time'] < end]\n",
    "    # sometimes the playlist entries are duplicated\n",
    "    song = songs.drop_duplicates()\n",
    "    songs = songs.sort_values(by = 'Air Time')\n",
    "    \n",
    "    \n",
    "    return songs"
   ]
  },
  {
   "cell_type": "markdown",
   "metadata": {},
   "source": [
    "## Load The Playlists\n",
    "Fetch all the playlists, for the duration of the countdown,\n",
    "pulling from local cache if possible."
   ]
  },
  {
   "cell_type": "code",
   "execution_count": 5,
   "metadata": {
    "collapsed": false
   },
   "outputs": [
    {
     "name": "stdout",
     "output_type": "stream",
     "text": [
      "got 1246 rows\n"
     ]
    }
   ],
   "source": [
    "ninties = fetch_playlist(datetime(2022, 12, 1, 8, 0), datetime.now(),\n",
    "                          playlist_cache_dir)\n",
    "print \"got %d rows\" % len(ninties)"
   ]
  },
  {
   "cell_type": "code",
   "execution_count": 6,
   "metadata": {
    "collapsed": false
   },
   "outputs": [
    {
     "data": {
      "text/html": [
       "<table border=\"1\" class=\"dataframe\">\n",
       "  <thead>\n",
       "    <tr style=\"text-align: right;\">\n",
       "      <th></th>\n",
       "      <th>Artist</th>\n",
       "      <th>Title</th>\n",
       "      <th>Album</th>\n",
       "      <th>Air Time</th>\n",
       "    </tr>\n",
       "  </thead>\n",
       "  <tbody>\n",
       "    <tr>\n",
       "      <th>195</th>\n",
       "      <td>David Gray</td>\n",
       "      <td>A Century Ends</td>\n",
       "      <td>A Century Ends</td>\n",
       "      <td>2022-12-01 08:02:27</td>\n",
       "    </tr>\n",
       "    <tr>\n",
       "      <th>194</th>\n",
       "      <td>Cowboy Junkies</td>\n",
       "      <td>A Common Disaster</td>\n",
       "      <td>Lay It Down</td>\n",
       "      <td>2022-12-01 08:12:21</td>\n",
       "    </tr>\n",
       "    <tr>\n",
       "      <th>193</th>\n",
       "      <td>My Life With Thrill Kill Kult</td>\n",
       "      <td>A Daisy Chain 4 Satan</td>\n",
       "      <td>Confessions of a Knife</td>\n",
       "      <td>2022-12-01 08:16:39</td>\n",
       "    </tr>\n",
       "    <tr>\n",
       "      <th>192</th>\n",
       "      <td>Bruce Cockburn</td>\n",
       "      <td>A Dream Like Mine</td>\n",
       "      <td>Recorded Live for World Cafe 10/15/91</td>\n",
       "      <td>2022-12-01 08:24:52</td>\n",
       "    </tr>\n",
       "    <tr>\n",
       "      <th>191</th>\n",
       "      <td>Edwyn Collins</td>\n",
       "      <td>A Girl Like You</td>\n",
       "      <td>Gorgeous George</td>\n",
       "      <td>2022-12-01 08:28:34</td>\n",
       "    </tr>\n",
       "  </tbody>\n",
       "</table>"
      ],
      "text/plain": [
       "<IPython.core.display.HTML object>"
      ]
     },
     "execution_count": 6,
     "metadata": {},
     "output_type": "execute_result"
    }
   ],
   "source": [
    "HTML(ninties.head(5).to_html())"
   ]
  },
  {
   "cell_type": "code",
   "execution_count": 7,
   "metadata": {
    "collapsed": false,
    "scrolled": true
   },
   "outputs": [
    {
     "data": {
      "text/html": [
       "<table border=\"1\" class=\"dataframe\">\n",
       "  <thead>\n",
       "    <tr style=\"text-align: right;\">\n",
       "      <th></th>\n",
       "      <th>Artist</th>\n",
       "      <th>Title</th>\n",
       "      <th>Album</th>\n",
       "      <th>Air Time</th>\n",
       "    </tr>\n",
       "  </thead>\n",
       "  <tbody>\n",
       "    <tr>\n",
       "      <th>1188</th>\n",
       "      <td>Iris Dement</td>\n",
       "      <td>Our Town</td>\n",
       "      <td>Infamous Angel</td>\n",
       "      <td>2022-12-05 10:22:29</td>\n",
       "    </tr>\n",
       "    <tr>\n",
       "      <th>1187</th>\n",
       "      <td>Tegan and Sara</td>\n",
       "      <td>Our Trees</td>\n",
       "      <td>Under Feet Like Ours</td>\n",
       "      <td>2022-12-05 10:29:04</td>\n",
       "    </tr>\n",
       "    <tr>\n",
       "      <th>1186</th>\n",
       "      <td>Dinosaur Jr</td>\n",
       "      <td>Out There</td>\n",
       "      <td>Where You Been</td>\n",
       "      <td>2022-12-05 10:32:49</td>\n",
       "    </tr>\n",
       "    <tr>\n",
       "      <th>1185</th>\n",
       "      <td>Wilco</td>\n",
       "      <td>Outta Mind (Outta Sight)</td>\n",
       "      <td>Being There</td>\n",
       "      <td>2022-12-05 10:38:50</td>\n",
       "    </tr>\n",
       "    <tr>\n",
       "      <th>1184</th>\n",
       "      <td>Wilco</td>\n",
       "      <td>Outtasite (Outta Mind)</td>\n",
       "      <td>Being There</td>\n",
       "      <td>2022-12-05 10:43:07</td>\n",
       "    </tr>\n",
       "  </tbody>\n",
       "</table>"
      ],
      "text/plain": [
       "<IPython.core.display.HTML object>"
      ]
     },
     "execution_count": 7,
     "metadata": {},
     "output_type": "execute_result"
    }
   ],
   "source": [
    "HTML(ninties.tail(5).to_html())"
   ]
  },
  {
   "cell_type": "markdown",
   "metadata": {},
   "source": [
    "## Augmenting The Data"
   ]
  },
  {
   "cell_type": "markdown",
   "metadata": {},
   "source": [
    "### Extracting Initial Letters\n",
    "This might be the lamest, simplest, data augmentation,\n",
    "but it is an A to Z countdown isn't it?\n",
    "Besides nothing is ever really that simple.\n",
    "Blanks and initial punctuation (ex *'Til*) have show up before."
   ]
  },
  {
   "cell_type": "code",
   "execution_count": 8,
   "metadata": {
    "collapsed": false
   },
   "outputs": [],
   "source": [
    "def first_char(s):\n",
    "    for c in s:\n",
    "        if type(c) is str and c.isalpha():\n",
    "            return c.upper()\n",
    "    return s[0]\n",
    "\n",
    "ninties = ninties.join(ninties.apply(lambda x: first_char(x['Title']), axis=1).to_frame('Letter'))"
   ]
  },
  {
   "cell_type": "markdown",
   "metadata": {},
   "source": [
    "### Extracting First Words\n",
    "Not sure how interesting this is,\n",
    "but the \"should we include leading articles\" was the genesis of this effort back in 2016.\n",
    "Besides it's easy."
   ]
  },
  {
   "cell_type": "code",
   "execution_count": 9,
   "metadata": {
    "collapsed": false
   },
   "outputs": [],
   "source": [
    "from nltk.tokenize import RegexpTokenizer\n",
    "custom_tokenize = RegexpTokenizer(\"[\\w'\\-]+|[^\\w'\\s\\-]\").tokenize\n",
    "ninties = ninties.join(ninties.apply(lambda x: custom_tokenize(x['Title'])[0], axis=1).to_frame('First Word'))"
   ]
  },
  {
   "cell_type": "markdown",
   "metadata": {},
   "source": [
    "### Publication Years\n",
    "\n",
    "For the 90s A-Z, the realtime list uses a single Json request to get a list of songs\n",
    "and it contains the publicatin year.\n",
    "this might just be a lot easier than using [MusicBrainz](https://musicbrainz.org)."
   ]
  },
  {
   "cell_type": "code",
   "execution_count": 10,
   "metadata": {
    "collapsed": false
   },
   "outputs": [],
   "source": [
    "def fetch_years():\n",
    "    # the 90s specific playlist page has a json feed with years, \n",
    "    # so we can just fetch that as\n",
    "    # https://origin.xpn.org/countdown/2022/2022_90s_az.json\n",
    "    # one catch, unlike the normal playlist, it stuffs esacpped esapes on \"specials\"\n",
    "    # for example \"Don\\\\'t need no \\\\'cape here\" rather than \"Don't need no 'cape here\"\n",
    "    #\n",
    "    # their data isn't much better than what I did myself.\n",
    "    # for the moment, drop anything outside 1990-1999.\n",
    "    years = pd.DataFrame(None, columns=['Artist', 'Title', 'Album', 'Year'])\n",
    "    az_url = 'https://origin.xpn.org/countdown/2022/2022_90s_az.json'\n",
    "    page = requests.get(az_url)\n",
    "    for track in page.json():\n",
    "        if len(track['releaseDate']) == 4:\n",
    "            release_year = int(track['releaseDate'])\n",
    "            if release_year < 1990 or release_year > 1999:\n",
    "                    release_year = 0\n",
    "        else:\n",
    "            release_year = 0\n",
    "        years = years.append({'Artist': track['artist'].replace(\"\\\\\", \"\"),\n",
    "                              'Title': track['song'].replace(\"\\\\\", \"\"),\n",
    "                              'Album': track['album'].replace(\"\\\\\", \"\"),\n",
    "                              'Year': release_year},\n",
    "                             ignore_index = True)\n",
    "    return years\n",
    "    \n"
   ]
  },
  {
   "cell_type": "code",
   "execution_count": 11,
   "metadata": {
    "collapsed": false
   },
   "outputs": [
    {
     "name": "stdout",
     "output_type": "stream",
     "text": [
      "Of 1246 tracks, 1132 had valid dates and 114 did not\n"
     ]
    }
   ],
   "source": [
    "ninties = ninties.merge(fetch_years(), on = ['Artist', 'Title', 'Album'], how='left')\n",
    "ninties['Year'] = ninties['Year'].fillna(value=0).astype(int)\n",
    "print \"Of %d tracks, %d had valid dates and %d did not\" % \\\n",
    "    (len(ninties), len(ninties[ninties['Year'] > 0]), len(ninties[ninties['Year'] == 0]))"
   ]
  },
  {
   "cell_type": "markdown",
   "metadata": {},
   "source": [
    "### Estimating Durations\n",
    "\n",
    "Since we have air times, we can approximate durations by subtracting the air time from the next track's air times.  There are a couple catches with this\n",
    "- we need to pass in an explicit end time for the last track, but that's minor\n",
    "- we need to add some logic to 'skip over' the Free at Noons that happen on Fridays form 12 noon till \"like 12:40 or so\" and don't appear in the playlist at all\n",
    "- there's no clear way to account for \"non-song time\" like station promos, hosts introducing songs, station ids, and so forth.  Fortunately, the percentage of time that is really music is pretty high thanks to XPN being listener supported."
   ]
  },
  {
   "cell_type": "code",
   "execution_count": 12,
   "metadata": {
    "collapsed": true
   },
   "outputs": [],
   "source": [
    "def estimate_durations(playlist, end_time=None):\n",
    "    \"\"\"\n",
    "    Estimate the song durations\n",
    "    Args: \n",
    "        playlist (DataFrame): playlist with minimally an 'Air Time' attribute\n",
    "        end_time (datetime): end time of the play list, or None if still going\n",
    "    Return:\n",
    "        modified DataFrame with 'Duration' attribute added.\n",
    "    \"\"\"\n",
    "    \n",
    "    playlist['Duration'] = pd.Series([0 for x in range(len(playlist.index))], index=playlist.index)\n",
    "    previous = None\n",
    "    last_idx = None\n",
    "    for idx, row in playlist.iterrows():\n",
    "        if not previous is None:\n",
    "            if row['Air Time'].date().weekday() == 4 and previous.hour == 11 and row['Air Time'].hour == 12:\n",
    "                # We just fell into a free at noon\n",
    "                playlist.loc[last_idx, 'Duration'] = 60 - previous.minute\n",
    "            else:\n",
    "                # just subtract this start from the previous\n",
    "                delta = row['Air Time'] - previous\n",
    "                playlist.loc[last_idx, 'Duration'] = delta.seconds / 60\n",
    "        previous = row['Air Time']\n",
    "        last_idx = idx\n",
    "\n",
    "    # fixup the last row\n",
    "    if end_time is not None:    \n",
    "        delta = end_time - playlist.loc[last_idx,'Air Time']\n",
    "        playlist.loc[last_idx, 'Duration'] = delta.seconds / 60\n",
    "    \n",
    "    return playlist"
   ]
  },
  {
   "cell_type": "code",
   "execution_count": 13,
   "metadata": {
    "collapsed": true
   },
   "outputs": [],
   "source": [
    "ninties = estimate_durations(ninties, None)"
   ]
  },
  {
   "cell_type": "markdown",
   "metadata": {},
   "source": [
    "## Checking The Results"
   ]
  },
  {
   "cell_type": "code",
   "execution_count": 14,
   "metadata": {
    "collapsed": false
   },
   "outputs": [
    {
     "data": {
      "text/html": [
       "<table border=\"1\" class=\"dataframe\">\n",
       "  <thead>\n",
       "    <tr style=\"text-align: right;\">\n",
       "      <th></th>\n",
       "      <th>Artist</th>\n",
       "      <th>Title</th>\n",
       "      <th>Album</th>\n",
       "      <th>Air Time</th>\n",
       "      <th>Letter</th>\n",
       "      <th>First Word</th>\n",
       "      <th>Year</th>\n",
       "      <th>Duration</th>\n",
       "    </tr>\n",
       "  </thead>\n",
       "  <tbody>\n",
       "    <tr>\n",
       "      <th>0</th>\n",
       "      <td>David Gray</td>\n",
       "      <td>A Century Ends</td>\n",
       "      <td>A Century Ends</td>\n",
       "      <td>2022-12-01 08:02:27</td>\n",
       "      <td>A</td>\n",
       "      <td>A</td>\n",
       "      <td>1993</td>\n",
       "      <td>9</td>\n",
       "    </tr>\n",
       "    <tr>\n",
       "      <th>1</th>\n",
       "      <td>Cowboy Junkies</td>\n",
       "      <td>A Common Disaster</td>\n",
       "      <td>Lay It Down</td>\n",
       "      <td>2022-12-01 08:12:21</td>\n",
       "      <td>A</td>\n",
       "      <td>A</td>\n",
       "      <td>1996</td>\n",
       "      <td>4</td>\n",
       "    </tr>\n",
       "    <tr>\n",
       "      <th>2</th>\n",
       "      <td>My Life With Thrill Kill Kult</td>\n",
       "      <td>A Daisy Chain 4 Satan</td>\n",
       "      <td>Confessions of a Knife</td>\n",
       "      <td>2022-12-01 08:16:39</td>\n",
       "      <td>A</td>\n",
       "      <td>A</td>\n",
       "      <td>1990</td>\n",
       "      <td>8</td>\n",
       "    </tr>\n",
       "    <tr>\n",
       "      <th>3</th>\n",
       "      <td>Bruce Cockburn</td>\n",
       "      <td>A Dream Like Mine</td>\n",
       "      <td>Recorded Live for World Cafe 10/15/91</td>\n",
       "      <td>2022-12-01 08:24:52</td>\n",
       "      <td>A</td>\n",
       "      <td>A</td>\n",
       "      <td>1991</td>\n",
       "      <td>3</td>\n",
       "    </tr>\n",
       "    <tr>\n",
       "      <th>4</th>\n",
       "      <td>Edwyn Collins</td>\n",
       "      <td>A Girl Like You</td>\n",
       "      <td>Gorgeous George</td>\n",
       "      <td>2022-12-01 08:28:34</td>\n",
       "      <td>A</td>\n",
       "      <td>A</td>\n",
       "      <td>0</td>\n",
       "      <td>3</td>\n",
       "    </tr>\n",
       "    <tr>\n",
       "      <th>5</th>\n",
       "      <td>John Scofield</td>\n",
       "      <td>A Go Go</td>\n",
       "      <td>A Go Go</td>\n",
       "      <td>2022-12-01 08:32:30</td>\n",
       "      <td>A</td>\n",
       "      <td>A</td>\n",
       "      <td>1998</td>\n",
       "      <td>7</td>\n",
       "    </tr>\n",
       "    <tr>\n",
       "      <th>6</th>\n",
       "      <td>Sugar</td>\n",
       "      <td>A Good Idea</td>\n",
       "      <td>Copper Blue</td>\n",
       "      <td>2022-12-01 08:40:12</td>\n",
       "      <td>A</td>\n",
       "      <td>A</td>\n",
       "      <td>1992</td>\n",
       "      <td>3</td>\n",
       "    </tr>\n",
       "    <tr>\n",
       "      <th>7</th>\n",
       "      <td>Tom Petty</td>\n",
       "      <td>A Higher Place</td>\n",
       "      <td>Wildflowers</td>\n",
       "      <td>2022-12-01 08:44:09</td>\n",
       "      <td>A</td>\n",
       "      <td>A</td>\n",
       "      <td>0</td>\n",
       "      <td>6</td>\n",
       "    </tr>\n",
       "    <tr>\n",
       "      <th>8</th>\n",
       "      <td>The Cure</td>\n",
       "      <td>A Letter To Elise</td>\n",
       "      <td>Wish</td>\n",
       "      <td>2022-12-01 08:51:04</td>\n",
       "      <td>A</td>\n",
       "      <td>A</td>\n",
       "      <td>1992</td>\n",
       "      <td>5</td>\n",
       "    </tr>\n",
       "    <tr>\n",
       "      <th>9</th>\n",
       "      <td>NRBQ</td>\n",
       "      <td>A Little Bit Of Bad</td>\n",
       "      <td>Message For The Mess-age</td>\n",
       "      <td>2022-12-01 08:56:17</td>\n",
       "      <td>A</td>\n",
       "      <td>A</td>\n",
       "      <td>1994</td>\n",
       "      <td>3</td>\n",
       "    </tr>\n",
       "  </tbody>\n",
       "</table>"
      ],
      "text/plain": [
       "<IPython.core.display.HTML object>"
      ]
     },
     "execution_count": 14,
     "metadata": {},
     "output_type": "execute_result"
    }
   ],
   "source": [
    "HTML(ninties.head(10).to_html())"
   ]
  },
  {
   "cell_type": "code",
   "execution_count": 15,
   "metadata": {
    "collapsed": false
   },
   "outputs": [
    {
     "data": {
      "text/html": [
       "<table border=\"1\" class=\"dataframe\">\n",
       "  <thead>\n",
       "    <tr style=\"text-align: right;\">\n",
       "      <th></th>\n",
       "      <th>Artist</th>\n",
       "      <th>Title</th>\n",
       "      <th>Album</th>\n",
       "      <th>Air Time</th>\n",
       "      <th>Letter</th>\n",
       "      <th>First Word</th>\n",
       "      <th>Year</th>\n",
       "      <th>Duration</th>\n",
       "    </tr>\n",
       "  </thead>\n",
       "  <tbody>\n",
       "    <tr>\n",
       "      <th>1236</th>\n",
       "      <td>The Sounds Of Blackness</td>\n",
       "      <td>Optimistic</td>\n",
       "      <td>The Evolution of Gospel</td>\n",
       "      <td>2022-12-05 09:56:06</td>\n",
       "      <td>O</td>\n",
       "      <td>Optimistic</td>\n",
       "      <td>1991</td>\n",
       "      <td>5</td>\n",
       "    </tr>\n",
       "    <tr>\n",
       "      <th>1237</th>\n",
       "      <td>Cowboy Junkies</td>\n",
       "      <td>Oregon Hill</td>\n",
       "      <td>Black Eyed Man</td>\n",
       "      <td>2022-12-05 10:01:57</td>\n",
       "      <td>O</td>\n",
       "      <td>Oregon</td>\n",
       "      <td>1992</td>\n",
       "      <td>4</td>\n",
       "    </tr>\n",
       "    <tr>\n",
       "      <th>1238</th>\n",
       "      <td>DJ Shadow</td>\n",
       "      <td>Organ Donor</td>\n",
       "      <td>Endtroducing</td>\n",
       "      <td>2022-12-05 10:06:48</td>\n",
       "      <td>O</td>\n",
       "      <td>Organ</td>\n",
       "      <td>1996</td>\n",
       "      <td>6</td>\n",
       "    </tr>\n",
       "    <tr>\n",
       "      <th>1239</th>\n",
       "      <td>Erykah Badu</td>\n",
       "      <td>Other Side of the Game</td>\n",
       "      <td>Baduizm</td>\n",
       "      <td>2022-12-05 10:12:54</td>\n",
       "      <td>O</td>\n",
       "      <td>Other</td>\n",
       "      <td>1997</td>\n",
       "      <td>6</td>\n",
       "    </tr>\n",
       "    <tr>\n",
       "      <th>1240</th>\n",
       "      <td>Jeb Loy Nichols</td>\n",
       "      <td>Our Good Good Thing</td>\n",
       "      <td>Lovers Knot</td>\n",
       "      <td>2022-12-05 10:19:21</td>\n",
       "      <td>O</td>\n",
       "      <td>Our</td>\n",
       "      <td>0</td>\n",
       "      <td>3</td>\n",
       "    </tr>\n",
       "    <tr>\n",
       "      <th>1241</th>\n",
       "      <td>Iris Dement</td>\n",
       "      <td>Our Town</td>\n",
       "      <td>Infamous Angel</td>\n",
       "      <td>2022-12-05 10:22:29</td>\n",
       "      <td>O</td>\n",
       "      <td>Our</td>\n",
       "      <td>1992</td>\n",
       "      <td>6</td>\n",
       "    </tr>\n",
       "    <tr>\n",
       "      <th>1242</th>\n",
       "      <td>Tegan and Sara</td>\n",
       "      <td>Our Trees</td>\n",
       "      <td>Under Feet Like Ours</td>\n",
       "      <td>2022-12-05 10:29:04</td>\n",
       "      <td>O</td>\n",
       "      <td>Our</td>\n",
       "      <td>1999</td>\n",
       "      <td>3</td>\n",
       "    </tr>\n",
       "    <tr>\n",
       "      <th>1243</th>\n",
       "      <td>Dinosaur Jr</td>\n",
       "      <td>Out There</td>\n",
       "      <td>Where You Been</td>\n",
       "      <td>2022-12-05 10:32:49</td>\n",
       "      <td>O</td>\n",
       "      <td>Out</td>\n",
       "      <td>1993</td>\n",
       "      <td>6</td>\n",
       "    </tr>\n",
       "    <tr>\n",
       "      <th>1244</th>\n",
       "      <td>Wilco</td>\n",
       "      <td>Outta Mind (Outta Sight)</td>\n",
       "      <td>Being There</td>\n",
       "      <td>2022-12-05 10:38:50</td>\n",
       "      <td>O</td>\n",
       "      <td>Outta</td>\n",
       "      <td>1996</td>\n",
       "      <td>4</td>\n",
       "    </tr>\n",
       "    <tr>\n",
       "      <th>1245</th>\n",
       "      <td>Wilco</td>\n",
       "      <td>Outtasite (Outta Mind)</td>\n",
       "      <td>Being There</td>\n",
       "      <td>2022-12-05 10:43:07</td>\n",
       "      <td>O</td>\n",
       "      <td>Outtasite</td>\n",
       "      <td>1996</td>\n",
       "      <td>0</td>\n",
       "    </tr>\n",
       "  </tbody>\n",
       "</table>"
      ],
      "text/plain": [
       "<IPython.core.display.HTML object>"
      ]
     },
     "execution_count": 15,
     "metadata": {},
     "output_type": "execute_result"
    }
   ],
   "source": [
    "HTML(ninties.tail(10).to_html())"
   ]
  },
  {
   "cell_type": "markdown",
   "metadata": {},
   "source": [
    "## Saving The Data"
   ]
  },
  {
   "cell_type": "code",
   "execution_count": 16,
   "metadata": {
    "collapsed": false
   },
   "outputs": [],
   "source": [
    "ninties_data_file = path.join(data_dir, '90sA2Z.csv')\n",
    "ninties.to_csv(ninties_data_file, index=False, encoding='utf8')"
   ]
  },
  {
   "cell_type": "markdown",
   "metadata": {
    "collapsed": true
   },
   "source": [
    "## Availability\n",
    "The code for this project is in [my github repo](https://github.com/asudell/a2z)\n",
    "and this file is specifically [Dataloading2](https://github.com/asudell/a2z/blob/master/Dataloading2.ipynb). "
   ]
  },
  {
   "cell_type": "markdown",
   "metadata": {},
   "source": [
    "## License\n",
    "\n",
    "\n",
    "This project is licensed under a\n",
    "[Creative Commons Attribution-ShareAlike 4.0 International License](http://creativecommons.org/licenses/by-sa/4.0/).\n",
    "You are free to use for commercial or non-commercial purposes,\n",
    "so long as you attribute the source and also allow sharing."
   ]
  }
 ],
 "metadata": {
  "kernelspec": {
   "display_name": "Python 2",
   "language": "python",
   "name": "python2"
  },
  "language_info": {
   "codemirror_mode": {
    "name": "ipython",
    "version": 2
   },
   "file_extension": ".py",
   "mimetype": "text/x-python",
   "name": "python",
   "nbconvert_exporter": "python",
   "pygments_lexer": "ipython2",
   "version": "2.7.12"
  }
 },
 "nbformat": 4,
 "nbformat_minor": 2
}
