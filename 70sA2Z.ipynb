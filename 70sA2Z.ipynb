{
 "cells": [
  {
   "cell_type": "markdown",
   "metadata": {},
   "source": [
    "# 70's A-Z\n",
    "\n",
    "\n",
    "Last year's XPN A to Z, was so much fun, they are doing again.\n",
    "This time the [XPN 70's A to Z](http://xpn.org/music-artist/xpn-a-z) playlist is\n",
    "limited to the 70's but otherwise similar to last year in that it is a\n",
    "muti-week alphabetical walk though their catalog.\n",
    "Not only was the music and the [Twitter feed](https://twitter.com/search?q=%23XPNAtoZ) fun,\n",
    "but so was my side project, [AtoZ](AtoZ.ipynb) notebook,\n",
    "doing statistical analysis of the playlist.\n",
    "\n",
    "So, of course, I'm going to try it again."
   ]
  },
  {
   "cell_type": "code",
   "execution_count": 34,
   "metadata": {
    "collapsed": false
   },
   "outputs": [
    {
     "data": {
      "text/html": [
       "<script>\n",
       "code_show=true; \n",
       "function code_toggle() {\n",
       "    if (code_show){\n",
       "        $('div.input').hide();\n",
       "    } else {\n",
       "        $('div.input').show();\n",
       "    }\n",
       "        code_show = !code_show\n",
       "} \n",
       "$( document ).ready(code_toggle);\n",
       "</script>\n",
       "<form action=\"javascript:code_toggle()\"><input type=\"submit\" value=\"Click here to toggle on/off the raw code.\"></form>"
      ],
      "text/plain": [
       "<IPython.core.display.HTML object>"
      ]
     },
     "execution_count": 34,
     "metadata": {},
     "output_type": "execute_result"
    }
   ],
   "source": [
    "%matplotlib inline\n",
    "from IPython.display import display, HTML\n",
    "\n",
    "HTML('''<script>\n",
    "code_show=true; \n",
    "function code_toggle() {\n",
    "    if (code_show){\n",
    "        $('div.input').hide();\n",
    "    } else {\n",
    "        $('div.input').show();\n",
    "    }\n",
    "        code_show = !code_show\n",
    "} \n",
    "$( document ).ready(code_toggle);\n",
    "</script>\n",
    "<form action=\"javascript:code_toggle()\"><input type=\"submit\" value=\"Click here to toggle on/off the raw code.\"></form>''')"
   ]
  },
  {
   "cell_type": "markdown",
   "metadata": {},
   "source": [
    "## Status\n",
    "\n",
    "- Right now, it is day one, so this will evolve a lot, but we'll start simple. There will be more"
   ]
  },
  {
   "cell_type": "markdown",
   "metadata": {},
   "source": [
    "## Loading the data\n",
    "\n",
    "For the moment, I'll just load the song lists from the\n",
    "[XPN 70's A to Z](http://www.xpn.org/music-artist/xpn-a-z) page.\n",
    "The by-letter lists are simlilar to what I did\n",
    "in the original [AtoZ](AtoZ.ipynb) notebook.\n",
    "This time there is a breakdown by year there as well, which I'll load.\n",
    "Not all the tracks have years, so eventually we may redo the \n",
    "integration with [MusicBrainz](https://musicbrainz.org/)\n",
    "and see how that compares.\n",
    "Since I ended up populating the cache from the command line exclusivly\n",
    "last time, I'll omit the web scraping code and just load\n",
    "[seventies.csv](cache/xpn/seventies.csv).\n",
    "If you really want to see the web scraping, look at [load_xpn70s.py](load_xpn70s.py)."
   ]
  },
  {
   "cell_type": "code",
   "execution_count": 41,
   "metadata": {
    "collapsed": false
   },
   "outputs": [],
   "source": [
    "import pandas as pd\n",
    "playlist_cache = './cache/xpn/seventies.csv'\n",
    "playlist = pd.read_csv(playlist_cache)"
   ]
  },
  {
   "cell_type": "markdown",
   "metadata": {},
   "source": [
    "## Examining the Data\n",
    "\n",
    "Just to see what we're playing with,\n",
    "lets look at the first few rows\n",
    "and get some basic stats on the dataset."
   ]
  },
  {
   "cell_type": "code",
   "execution_count": 42,
   "metadata": {
    "collapsed": false
   },
   "outputs": [
    {
     "data": {
      "text/html": [
       "<table border=\"1\" class=\"dataframe\">\n",
       "  <thead>\n",
       "    <tr style=\"text-align: right;\">\n",
       "      <th></th>\n",
       "      <th>Title</th>\n",
       "      <th>Artist</th>\n",
       "      <th>Letter</th>\n",
       "      <th>Year</th>\n",
       "    </tr>\n",
       "  </thead>\n",
       "  <tbody>\n",
       "    <tr>\n",
       "      <th>0</th>\n",
       "      <td>A Calling-On Song</td>\n",
       "      <td>Steeleye Span</td>\n",
       "      <td>A</td>\n",
       "      <td>1970</td>\n",
       "    </tr>\n",
       "    <tr>\n",
       "      <th>1</th>\n",
       "      <td>A Case Of You</td>\n",
       "      <td>Joni Mitchell</td>\n",
       "      <td>A</td>\n",
       "      <td>1971</td>\n",
       "    </tr>\n",
       "    <tr>\n",
       "      <th>2</th>\n",
       "      <td>A Clue</td>\n",
       "      <td>Boz Scaggs</td>\n",
       "      <td>A</td>\n",
       "      <td>1977</td>\n",
       "    </tr>\n",
       "    <tr>\n",
       "      <th>3</th>\n",
       "      <td>A Dream Goes On Forever</td>\n",
       "      <td>Todd Rundgren</td>\n",
       "      <td>A</td>\n",
       "      <td>1974</td>\n",
       "    </tr>\n",
       "    <tr>\n",
       "      <th>4</th>\n",
       "      <td>A Gift</td>\n",
       "      <td>Lou Reed</td>\n",
       "      <td>A</td>\n",
       "      <td>1975</td>\n",
       "    </tr>\n",
       "  </tbody>\n",
       "</table>"
      ],
      "text/plain": [
       "<IPython.core.display.HTML object>"
      ]
     },
     "execution_count": 42,
     "metadata": {},
     "output_type": "execute_result"
    }
   ],
   "source": [
    "HTML(playlist.head(5).to_html())"
   ]
  },
  {
   "cell_type": "code",
   "execution_count": 43,
   "metadata": {
    "collapsed": false
   },
   "outputs": [
    {
     "data": {
      "text/html": [
       "<table border=\"1\" class=\"dataframe\">\n",
       "  <thead>\n",
       "    <tr style=\"text-align: right;\">\n",
       "      <th></th>\n",
       "      <th>Title</th>\n",
       "      <th>Artist</th>\n",
       "      <th>Letter</th>\n",
       "      <th>Year</th>\n",
       "    </tr>\n",
       "  </thead>\n",
       "  <tbody>\n",
       "    <tr>\n",
       "      <th>count</th>\n",
       "      <td>202</td>\n",
       "      <td>202</td>\n",
       "      <td>202</td>\n",
       "      <td>168.000000</td>\n",
       "    </tr>\n",
       "    <tr>\n",
       "      <th>unique</th>\n",
       "      <td>196</td>\n",
       "      <td>168</td>\n",
       "      <td>2</td>\n",
       "      <td></td>\n",
       "    </tr>\n",
       "    <tr>\n",
       "      <th>top</th>\n",
       "      <td>Across The Universe</td>\n",
       "      <td>David Bowie</td>\n",
       "      <td>A</td>\n",
       "      <td></td>\n",
       "    </tr>\n",
       "    <tr>\n",
       "      <th>freq</th>\n",
       "      <td>2</td>\n",
       "      <td>5</td>\n",
       "      <td>181</td>\n",
       "      <td></td>\n",
       "    </tr>\n",
       "    <tr>\n",
       "      <th>mean</th>\n",
       "      <td></td>\n",
       "      <td></td>\n",
       "      <td></td>\n",
       "      <td>1974.172619</td>\n",
       "    </tr>\n",
       "    <tr>\n",
       "      <th>std</th>\n",
       "      <td></td>\n",
       "      <td></td>\n",
       "      <td></td>\n",
       "      <td>2.995000</td>\n",
       "    </tr>\n",
       "    <tr>\n",
       "      <th>min</th>\n",
       "      <td></td>\n",
       "      <td></td>\n",
       "      <td></td>\n",
       "      <td>1970.000000</td>\n",
       "    </tr>\n",
       "    <tr>\n",
       "      <th>50%</th>\n",
       "      <td></td>\n",
       "      <td></td>\n",
       "      <td></td>\n",
       "      <td>1974.000000</td>\n",
       "    </tr>\n",
       "    <tr>\n",
       "      <th>max</th>\n",
       "      <td></td>\n",
       "      <td></td>\n",
       "      <td></td>\n",
       "      <td>1979.000000</td>\n",
       "    </tr>\n",
       "  </tbody>\n",
       "</table>"
      ],
      "text/plain": [
       "<IPython.core.display.HTML object>"
      ]
     },
     "execution_count": 43,
     "metadata": {},
     "output_type": "execute_result"
    }
   ],
   "source": [
    "HTML(playlist.describe(include='all', percentiles=[]).to_html(na_rep=''))"
   ]
  },
  {
   "cell_type": "markdown",
   "metadata": {},
   "source": [
    "So we know that, so far, we have seen 202 tracks, with 196 unique titles,\n",
    "from 168 artists and that of those, we have years for 168 of them."
   ]
  },
  {
   "cell_type": "markdown",
   "metadata": {},
   "source": [
    "### Data Cleaning\n",
    "\n",
    "Right now there's not much data cleaning \n",
    "outside of forcing years to be integer and filling in the \n",
    "missing values with 0's."
   ]
  },
  {
   "cell_type": "code",
   "execution_count": 44,
   "metadata": {
    "collapsed": true
   },
   "outputs": [],
   "source": [
    "playlist['Year'] = playlist['Year'].fillna(0.0).astype(int)"
   ]
  },
  {
   "cell_type": "markdown",
   "metadata": {},
   "source": [
    "## Data Analysis"
   ]
  },
  {
   "cell_type": "markdown",
   "metadata": {},
   "source": [
    "### Songs by Letter\n",
    "\n",
    "This was the first thing I looked at last time,\n",
    "and it serves as a good \"how are we doing\" metric during the count down.\n",
    "I promice, it will look better once there are a few more letters."
   ]
  },
  {
   "cell_type": "code",
   "execution_count": 45,
   "metadata": {
    "collapsed": false
   },
   "outputs": [
    {
     "data": {
      "text/plain": [
       "[<matplotlib.text.Text at 0x7fd349d4ea10>,\n",
       " <matplotlib.text.Text at 0x7fd349d5e250>]"
      ]
     },
     "execution_count": 45,
     "metadata": {},
     "output_type": "execute_result"
    },
    {
     "data": {
      "image/png": "[encoded data removed]",
      "text/plain": [
       "<matplotlib.figure.Figure at 0x7fd349deaed0>"
      ]
     },
     "metadata": {},
     "output_type": "display_data"
    }
   ],
   "source": [
    "import seaborn as sns\n",
    "import matplotlib.pyplot as plt\n",
    "f, ax = plt.subplots(figsize=(6, 6))\n",
    "sns.set_color_codes('pastel')\n",
    "sns.countplot(y='Letter', data=playlist, color='b')\n",
    "ax.set(xlabel=\"Songs Played\", ylabel=\"First Letter\")"
   ]
  },
  {
   "cell_type": "markdown",
   "metadata": {},
   "source": [
    "### Songs by Year\n",
    "\n",
    "Given the decade orientation this time,\n",
    "it makes sense to break the songs down by year."
   ]
  },
  {
   "cell_type": "code",
   "execution_count": 46,
   "metadata": {
    "collapsed": false
   },
   "outputs": [
    {
     "data": {
      "text/plain": [
       "[<matplotlib.text.Text at 0x7fd349cac850>,\n",
       " <matplotlib.text.Text at 0x7fd349d9cc90>]"
      ]
     },
     "execution_count": 46,
     "metadata": {},
     "output_type": "execute_result"
    },
    {
     "data": {
      "image/png": "[encoded data removed]",
      "text/plain": [
       "<matplotlib.figure.Figure at 0x7fd349dfd750>"
      ]
     },
     "metadata": {},
     "output_type": "display_data"
    }
   ],
   "source": [
    "f, ax = plt.subplots(figsize=(6, 6))\n",
    "sns.set_color_codes('pastel')\n",
    "sns.countplot(y='Year', data=playlist[playlist['Year'] > 0], color='b')\n",
    "ax.set(xlabel=\"Songs Played\", ylabel=\"Year\")"
   ]
  },
  {
   "cell_type": "markdown",
   "metadata": {},
   "source": [
    "### Most Popular Artists\n",
    "\n",
    "Last year's playlist was dominated by the Beatles.\n",
    "This time, the date cutoffs works aginst them,\n",
    "and early on it looks like David Bowie and Neil Young."
   ]
  },
  {
   "cell_type": "code",
   "execution_count": 47,
   "metadata": {
    "collapsed": false
   },
   "outputs": [
    {
     "data": {
      "text/plain": [
       "[<matplotlib.text.Text at 0x7fd349ce31d0>]"
      ]
     },
     "execution_count": 47,
     "metadata": {},
     "output_type": "execute_result"
    },
    {
     "data": {
      "image/png": "[encoded data removed]",
      "text/plain": [
       "<matplotlib.figure.Figure at 0x7fd34a025150>"
      ]
     },
     "metadata": {},
     "output_type": "display_data"
    }
   ],
   "source": [
    "c = playlist['Artist'].value_counts()\n",
    "artists = pd.DataFrame(zip(c.keys().tolist(), c.tolist()),\n",
    "                       columns=('Artist', 'count'))\n",
    "f, ax = plt.subplots(figsize=(6, 6))\n",
    "sns.set_color_codes('pastel')\n",
    "sns.barplot(y='Artist', x='count', data=artists.head(25), color='b')\n",
    "ax.set(xlabel=\"Appearences in the Playlist (so far)\")"
   ]
  },
  {
   "cell_type": "markdown",
   "metadata": {},
   "source": [
    "## Availability\n",
    "\n",
    "The code for this project is in [my git hub repo](https://github.com/asudell/a2z).\n",
    "The notebook its self is [published on nbviewer](http://nbviewer.jupyter.org/github/asudell/a2z/blob/master/70sAtoZ.ipynb)\n",
    "\n",
    "## License\n",
    "\n",
    "This project is licensed under a\n",
    "[Creative Commons Attribution-ShareAlike 4.0 International License](http://creativecommons.org/licenses/by-sa/4.0/).\n",
    "You are free to use for commercial or non-commercial purposes,\n",
    "so long as you attribute the source and also allow sharing."
   ]
  }
 ],
 "metadata": {
  "kernelspec": {
   "display_name": "Python 2",
   "language": "python",
   "name": "python2"
  },
  "language_info": {
   "codemirror_mode": {
    "name": "ipython",
    "version": 2
   },
   "file_extension": ".py",
   "mimetype": "text/x-python",
   "name": "python",
   "nbconvert_exporter": "python",
   "pygments_lexer": "ipython2",
   "version": "2.7.12"
  }
 },
 "nbformat": 4,
 "nbformat_minor": 2
}
