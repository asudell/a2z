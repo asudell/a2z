{
 "cells": [
  {
   "cell_type": "markdown",
   "metadata": {},
   "source": [
    "# Textual Analysis of XPN's AtoZ Playlist\n",
    "\n",
    "One of the cool things about [WXPN](http://xpn.org)\n",
    "is their frequent special programming which is always interesting.\n",
    "This year, they put together a multi-day alphabetical playlist\n",
    "called [XPN's A to Z](http://xpn.org/music-artist/xpn-a-z).\n",
    "As has been the case for a lot of these events,\n",
    "the [#XPNAtoZ](https://twitter.com/search?q=%23XPNAtoZ) tweet stream\n",
    "is as interesting as the music.\n",
    "Initially I was confused by why\n",
    "Johnny Cash's _A Boy Named Sue_ was the 3rd song,\n",
    "when I'd have filed it in the Bs.\n",
    "So, after getting involved in a \n",
    "[twitter exchange](https://twitter.com/brianjgainor/status/803966913483329536)\n",
    "on the topic of treating articles as significant,\n",
    "an idea came to me.\n",
    "I could look at the data to see how words that typically live on stop lists\n",
    "skewed the distribution of the music.\n",
    "Along the way other interesting explorations might turn up.\n",
    "What follows is the result."
   ]
  },
  {
   "cell_type": "markdown",
   "metadata": {},
   "source": [
    "## Disclaimer\n",
    "\n",
    "At present I must point out that this is all very preliminary\n",
    "\n",
    "- As I write this, after just over 3 days, the play list is just in the mid-Ds,\n",
    "  so things will change.\n",
    "- So far the analysis is pretty primitive.  That will improve over time.\n",
    "- I'm avoiding spending too much time on improving presentation,\n",
    "  especially in graphs, until the data stabilizes."
   ]
  },
  {
   "cell_type": "markdown",
   "metadata": {},
   "source": [
    "## Load the data\n",
    "\n",
    "The [AtoZ Playlist page](http://xpn.org/music-artist/xpn-a-z)\n",
    "contains a directory of songs by first letter.\n",
    "Behind the scenes, it makes ReST request to their backend.\n",
    "Eventually I should cache the results,\n",
    "so this keeps working when they change the site.\n",
    "But right now while the playlist is still going,\n",
    "just build a data frame off of the results."
   ]
  },
  {
   "cell_type": "code",
   "execution_count": 1,
   "metadata": {
    "collapsed": false
   },
   "outputs": [],
   "source": [
    "%matplotlib inline\n",
    "from lxml import html\n",
    "import requests\n",
    "import pandas as pd\n",
    "from IPython.display import display, HTML\n",
    "\n",
    "rows = []\n",
    "for letter in ['A', 'B', 'C', 'D']:\n",
    "    page = requests.get('http://xpn.org/static/az.php?q=%s' %  letter)\n",
    "    tree = html.fromstring(page.content)\n",
    "    plays = tree.xpath('//li/text()')\n",
    "    for play in plays:\n",
    "        rows.append(play.split(' - ', 1))\n",
    "playlist = pd.DataFrame(rows, columns=('Title', 'Artist'))"
   ]
  },
  {
   "cell_type": "markdown",
   "metadata": {},
   "source": [
    "If we just look at some basic stats on the resulting DataFrame,\n",
    "we see that things are potentially interesting.\n",
    "Some titles appear multiple times\n",
    "and Artists, especially the Beatles, repeat.\n",
    "so there's potential for learning something from patterns and frequencies."
   ]
  },
  {
   "cell_type": "code",
   "execution_count": 2,
   "metadata": {
    "collapsed": false
   },
   "outputs": [
    {
     "data": {
      "text/html": [
       "<table border=\"1\" class=\"dataframe\">\n",
       "  <thead>\n",
       "    <tr style=\"text-align: right;\">\n",
       "      <th></th>\n",
       "      <th>Title</th>\n",
       "      <th>Artist</th>\n",
       "    </tr>\n",
       "  </thead>\n",
       "  <tbody>\n",
       "    <tr>\n",
       "      <th>count</th>\n",
       "      <td>1165</td>\n",
       "      <td>1165</td>\n",
       "    </tr>\n",
       "    <tr>\n",
       "      <th>unique</th>\n",
       "      <td>1046</td>\n",
       "      <td>622</td>\n",
       "    </tr>\n",
       "    <tr>\n",
       "      <th>top</th>\n",
       "      <td>Crazy</td>\n",
       "      <td>The Beatles</td>\n",
       "    </tr>\n",
       "    <tr>\n",
       "      <th>freq</th>\n",
       "      <td>5</td>\n",
       "      <td>28</td>\n",
       "    </tr>\n",
       "  </tbody>\n",
       "</table>"
      ],
      "text/plain": [
       "<IPython.core.display.HTML object>"
      ]
     },
     "execution_count": 2,
     "metadata": {},
     "output_type": "execute_result"
    }
   ],
   "source": [
    "HTML(playlist.describe().to_html())"
   ]
  },
  {
   "cell_type": "markdown",
   "metadata": {},
   "source": [
    "Just to get a feel for the data in general,\n",
    "here's the first 10 rows of the data set.\n",
    "Basically it's two columns: title and artist.\n",
    "And since the data is pretty straight forward,\n",
    "I'm not doing much to clean it up."
   ]
  },
  {
   "cell_type": "code",
   "execution_count": 3,
   "metadata": {
    "collapsed": false
   },
   "outputs": [
    {
     "data": {
      "text/html": [
       "<table border=\"1\" class=\"dataframe\">\n",
       "  <thead>\n",
       "    <tr style=\"text-align: right;\">\n",
       "      <th></th>\n",
       "      <th>Title</th>\n",
       "      <th>Artist</th>\n",
       "    </tr>\n",
       "  </thead>\n",
       "  <tbody>\n",
       "    <tr>\n",
       "      <th>0</th>\n",
       "      <td>ABC</td>\n",
       "      <td>Jackson 5</td>\n",
       "    </tr>\n",
       "    <tr>\n",
       "      <th>1</th>\n",
       "      <td>A Big Hunk O' Love</td>\n",
       "      <td>Elvis Presley</td>\n",
       "    </tr>\n",
       "    <tr>\n",
       "      <th>2</th>\n",
       "      <td>A Boy Named Sue (live)</td>\n",
       "      <td>Johnny Cash</td>\n",
       "    </tr>\n",
       "    <tr>\n",
       "      <th>3</th>\n",
       "      <td>A Case Of You</td>\n",
       "      <td>Joni Mitchell</td>\n",
       "    </tr>\n",
       "    <tr>\n",
       "      <th>4</th>\n",
       "      <td>A Certain Girl</td>\n",
       "      <td>Ernie K-Doe</td>\n",
       "    </tr>\n",
       "    <tr>\n",
       "      <th>5</th>\n",
       "      <td>A Certain Girl</td>\n",
       "      <td>Warren Zevon</td>\n",
       "    </tr>\n",
       "    <tr>\n",
       "      <th>6</th>\n",
       "      <td>A Change</td>\n",
       "      <td>Sheryl Crow</td>\n",
       "    </tr>\n",
       "    <tr>\n",
       "      <th>7</th>\n",
       "      <td>A Change Is Gonna Come</td>\n",
       "      <td>Sam Cooke</td>\n",
       "    </tr>\n",
       "    <tr>\n",
       "      <th>8</th>\n",
       "      <td>A Day In The Life</td>\n",
       "      <td>The Beatles</td>\n",
       "    </tr>\n",
       "    <tr>\n",
       "      <th>9</th>\n",
       "      <td>A Day In The Life</td>\n",
       "      <td>The Beatles</td>\n",
       "    </tr>\n",
       "  </tbody>\n",
       "</table>"
      ],
      "text/plain": [
       "<IPython.core.display.HTML object>"
      ]
     },
     "execution_count": 3,
     "metadata": {},
     "output_type": "execute_result"
    }
   ],
   "source": [
    "HTML(playlist.head(10).to_html())"
   ]
  },
  {
   "cell_type": "markdown",
   "metadata": {},
   "source": [
    "## Data Analysis"
   ]
  },
  {
   "cell_type": "markdown",
   "metadata": {},
   "source": [
    "### Most Frequent Artists\n",
    "\n",
    "Even this early in the playlist,\n",
    "some artists show up often.\n",
    "This might say something about the music the station plays,\n",
    "or the listeners as much of this list comes from previous \n",
    "playlists like \"885 best songs of all time\"\n",
    "or my favorite, the \"85 worst songs of all time.\"\n",
    "For the moment, let's just look at the most frequent dozen or so."
   ]
  },
  {
   "cell_type": "code",
   "execution_count": 4,
   "metadata": {
    "collapsed": false
   },
   "outputs": [
    {
     "data": {
      "text/plain": [
       "<matplotlib.axes._subplots.AxesSubplot at 0x36cad90>"
      ]
     },
     "execution_count": 4,
     "metadata": {},
     "output_type": "execute_result"
    },
    {
     "data": {
      "image/png": "[encoded data removed]",
      "text/plain": [
       "<matplotlib.figure.Figure at 0x36cad50>"
      ]
     },
     "metadata": {},
     "output_type": "display_data"
    }
   ],
   "source": [
    "playlist['Artist'].value_counts().head(15).plot(kind='bar')\n"
   ]
  },
  {
   "cell_type": "markdown",
   "metadata": {
    "collapsed": true
   },
   "source": [
    "### Most Frequent First Words\n",
    "\n",
    "This is the question that started me down this path.\n",
    "How much do common \"stop words\" like articles or propositions \n",
    "skew the distribution?\n",
    "Or do so many songs start with a small set of words\n",
    "that no amount of pruning would even the distribution out?\n",
    "Here's an early look a the top 15 first words.\n",
    "Yes, \"A\" is up there.\n",
    "But it's not first, even early on.\n",
    "And there are a number of repeating leading words.\n",
    "So perhaps my initial concerns were unfounded.\n",
    "\n",
    "Note that finding the first word is harder than it might seem.\n",
    "For way more detail than a normal human would want,\n",
    "see the [Word Splitting](Word Splitting.ipynb) notebook.\n",
    "Short version, any sequence of letters or apostrophes is a word\n",
    "for our purposes."
   ]
  },
  {
   "cell_type": "code",
   "execution_count": 5,
   "metadata": {
    "collapsed": false
   },
   "outputs": [
    {
     "data": {
      "text/plain": [
       "<matplotlib.axes._subplots.AxesSubplot at 0x7646b90>"
      ]
     },
     "execution_count": 5,
     "metadata": {},
     "output_type": "execute_result"
    },
    {
     "data": {
      "image/png": "[encoded data removed]",
      "text/plain": [
       "<matplotlib.figure.Figure at 0x7646590>"
      ]
     },
     "metadata": {},
     "output_type": "display_data"
    }
   ],
   "source": [
    "from nltk.tokenize import RegexpTokenizer\n",
    "custom_tokenize = RegexpTokenizer(\"[\\w']+|[^\\w'\\s]\").tokenize\n",
    "\n",
    "playlist.apply(lambda x: custom_tokenize(x[0])[0], axis=1).value_counts().head(15).plot(kind='bar')"
   ]
  },
  {
   "cell_type": "markdown",
   "metadata": {},
   "source": [
    "## Availability\n",
    "\n",
    "The code for this project is in [my git hub repo](https://github.com/asudell/a2z).\n",
    "The notebook its self is [published on nbviewer](http://nbviewer.jupyter.org/github/asudell/a2z/blob/master/AtoZ.ipynb)\n",
    "\n",
    "## License\n",
    "\n",
    "This project is licensed under a\n",
    "[Creative Commons Attribution-ShareAlike 4.0 International License](http://creativecommons.org/licenses/by-sa/4.0/).\n",
    "You are free to use for commercial or non-commercial purposes,\n",
    "so long as you attribute the source and also allow sharing."
   ]
  }
 ],
 "metadata": {
  "kernelspec": {
   "display_name": "Python 2",
   "language": "python",
   "name": "python2"
  },
  "language_info": {
   "codemirror_mode": {
    "name": "ipython",
    "version": 2
   },
   "file_extension": ".py",
   "mimetype": "text/x-python",
   "name": "python",
   "nbconvert_exporter": "python",
   "pygments_lexer": "ipython2",
   "version": "2.7.3"
  }
 },
 "nbformat": 4,
 "nbformat_minor": 2
}
