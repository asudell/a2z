{
 "cells": [
  {
   "cell_type": "markdown",
   "metadata": {},
   "source": [
    "# Data Loading and Cleaning"
   ]
  },
  {
   "cell_type": "markdown",
   "metadata": {},
   "source": [
    "## Overview\n",
    "\n",
    "Part of the frenzy that is doing these stats tends to create a bit of messy data collection code for a few reasons: the countdowns are \"unannounced surprises\", they have limited time spans, it's a side project, and I want to be timely.  Having said that, I wanted to clean it up a bit and codify what I've learned.  So here goes"
   ]
  },
  {
   "cell_type": "markdown",
   "metadata": {},
   "source": [
    "### Setup\n",
    "\n",
    "Under the covers it mostly a combo of [requests](http://docs.python-requests.org/en/master/) and [lxml](http://lxml.de/) for webscraping and (pandas)[https://pandas.pydata.org/] for data munging.  Before we get started, set up the imports"
   ]
  },
  {
   "cell_type": "code",
   "execution_count": 11,
   "metadata": {
    "collapsed": true
   },
   "outputs": [],
   "source": [
    "%matplotlib inline\n",
    "from IPython.display import display, HTML\n",
    "import requests \n",
    "from lxml import html\n",
    "import pandas as pd\n",
    "from datetime import date, datetime, time\n",
    "from os import path, mkdir\n",
    "import re\n"
   ]
  },
  {
   "cell_type": "markdown",
   "metadata": {},
   "source": [
    "### Set up cache/data directories"
   ]
  },
  {
   "cell_type": "code",
   "execution_count": 12,
   "metadata": {
    "collapsed": false
   },
   "outputs": [],
   "source": [
    "\n",
    "cache_dir = './test-cache'\n",
    "playlist_cache_dir = path.join(cache_dir, 'playlists')\n",
    "data_dir = './test-data'\n",
    "\n",
    "for d in (cache_dir, playlist_cache_dir, data_dir):\n",
    "    if not path.exists(d): mkdir(d)"
   ]
  },
  {
   "cell_type": "markdown",
   "metadata": {},
   "source": [
    "## Generic XPN Playlist scraping\n",
    "\n",
    "Origionaly I tended to rely on the one-off countdown pages for playlists.\n",
    "But eventually I ended up using the generic playlist at [http://xpn.org/playlists/xpn-playlist](http://xpn.org/playlists/xpn-playlist).\n",
    "I've done this enough, it's past time to turn it into something reusable."
   ]
  },
  {
   "cell_type": "code",
   "execution_count": 18,
   "metadata": {
    "collapsed": false
   },
   "outputs": [],
   "source": [
    "def fetch_playlist(day, cache_dir=None, verbose = False):\n",
    "    \"\"\"\n",
    "    Fetches the XPN playlist for a given data\n",
    "    \n",
    "    Args:\n",
    "        day (datetime.date) : The day to fetch the playlist for\n",
    "        cache_dir (string)  : Path to the cache directory, or None to avoid caching\n",
    "    \n",
    "    Returns:\n",
    "        DataFrame containing Artist and Title as Strings and Airtime as Timestamp\n",
    "    \"\"\"\n",
    "    songs = pd.DataFrame(None, columns=['Artist', 'Title', 'Air Time'])\n",
    "    if cache_dir is not None:\n",
    "        cache_file =  path.join(cache_dir, \"%04d-%02d-%02d.csv\" % \\\n",
    "                                (day.year, day.month, day.day))\n",
    "    if cache_file is not None and path.exists(cache_file):\n",
    "        songs = pd.read_csv(cache_file)\n",
    "        songs['Air Time'] = pd.to_datetime(songs['Air Time'], errors='coerce')\n",
    "        if verbose: print \"Got %d rows from %s\" % (len(songs), cache_file)\n",
    "    else:\n",
    "        day_s = '%02d-%02d-%04d' % (day.month, day.day, day.year)\n",
    "        page = requests.post('http://xpn.org/playlists/xpn-playlist',\n",
    "                                 data = {'playlistdate': day_s})\n",
    "        if verbose: print \"fetching %s returned status %s\" % (day_s, page.status_code)\n",
    "        tree = html.fromstring(page.content)\n",
    "        tracks = tree.xpath('//h3/a/text()')\n",
    "        # not all rows are tracks, some are membership callouts\n",
    "        # but real tracks start with times and are formatted\n",
    "        # HH:MM [am|pm] Artist - Title\n",
    "        # Note that I've seen titles with embedded dashes,\n",
    "        # but so far no artist names with them.  This may be luck.\n",
    "        # Special programs like World Cafe, Echos, ...\n",
    "        # also start with an air time, but don't have useful track info\n",
    "        # but those list the program inside bars\n",
    "        # eg |World Cafe| -  \"Wednesday 11-2-2016 Hour 2, Part 7\"\n",
    "        date_regex = re.compile(\"^\\d{2}:\\d{2}\\s\")\n",
    "        line_count= 0\n",
    "        track_count = 0\n",
    "        for track in tracks:\n",
    "            line_count += 1\n",
    "            if date_regex.match(track) and track[9:10] != '|':\n",
    "                (artist, title) = track[9:].split(' - ', 1)\n",
    "                dt = datetime.strptime(track[:8], '%I:%M %p')\n",
    "                air_time = datetime.combine(day, dt.time())\n",
    "                if verbose: print \"adding %s %s %s\" % (artist, title, air_time)\n",
    "                songs = songs.append({'Artist': artist,\n",
    "                                      'Title': title,\n",
    "                                      'Air Time': air_time},\n",
    "                                     ignore_index = True)\n",
    "                if verbose: print \"size = %d\" % len(songs)\n",
    "                track_count += 1\n",
    "            \n",
    "        if verbose: print 'read %d line and added %d tracks' % (line_count, track_count)\n",
    "        # Drop any duplicates, which are not uncommon\n",
    "        songs = songs.drop_duplicates()\n",
    "        if cache_file is not None:\n",
    "            songs.to_csv(cache_file, index=False)\n",
    "            if verbose: print 'write %d rows to %s' % (len(songs), cache_file)\n",
    "    \n",
    "    return songs\n"
   ]
  },
  {
   "cell_type": "markdown",
   "metadata": {},
   "source": [
    "### XPN 70's A to Z playlist\n",
    "\n",
    "The 70s's AtoZ started at 6:00 am on Nov 29 2107.\n",
    "At this time it is still running.\n",
    "The only interruptions have been for Free at Noons,\n",
    "that don't appear in the playlist,\n",
    "but show as gaps from 12 noon to 12:40 or so on Fridays.\n"
   ]
  },
  {
   "cell_type": "code",
   "execution_count": 22,
   "metadata": {
    "collapsed": false
   },
   "outputs": [
    {
     "name": "stdout",
     "output_type": "stream",
     "text": [
      "got 2888 rows\n"
     ]
    }
   ],
   "source": [
    "start_time = datetime(2017, 11, 29, 06, 00)\n",
    "end_time = datetime.now()\n",
    "seventies = pd.DataFrame(None, columns=['Artist', 'Title', 'Air Time'])\n",
    "for day in pd.date_range(start_time.date(), end_time.date()):\n",
    "    seventies = seventies.append(fetch_playlist(day, playlist_cache_dir), ignore_index=True)\n",
    "# delete data before the start time\n",
    "seventies = seventies[seventies['Air Time'] >= start_time]\n",
    "seventies = seventies.sort_values(by = 'Air Time')\n",
    "# Save off the results\n",
    "seventies_data_file = path.join(data_dir, 'seventies.csv')\n",
    "seventies.to_csv(seventies_data_file, index=False)\n",
    "print \"got %d rows\" % len(seventies)"
   ]
  },
  {
   "cell_type": "markdown",
   "metadata": {},
   "source": [
    "Look at what we got a bit"
   ]
  },
  {
   "cell_type": "code",
   "execution_count": 23,
   "metadata": {
    "collapsed": false
   },
   "outputs": [
    {
     "data": {
      "text/html": [
       "<table border=\"1\" class=\"dataframe\">\n",
       "  <thead>\n",
       "    <tr style=\"text-align: right;\">\n",
       "      <th></th>\n",
       "      <th>Artist</th>\n",
       "      <th>Title</th>\n",
       "      <th>Air Time</th>\n",
       "    </tr>\n",
       "  </thead>\n",
       "  <tbody>\n",
       "    <tr>\n",
       "      <th>219</th>\n",
       "      <td>Steeleye Span</td>\n",
       "      <td>A Calling-On Song</td>\n",
       "      <td>2017-11-29 06:02:00</td>\n",
       "    </tr>\n",
       "    <tr>\n",
       "      <th>218</th>\n",
       "      <td>Joni Mitchell</td>\n",
       "      <td>A Case Of You</td>\n",
       "      <td>2017-11-29 06:03:00</td>\n",
       "    </tr>\n",
       "    <tr>\n",
       "      <th>217</th>\n",
       "      <td>Boz Scaggs</td>\n",
       "      <td>A Clue</td>\n",
       "      <td>2017-11-29 06:07:00</td>\n",
       "    </tr>\n",
       "    <tr>\n",
       "      <th>216</th>\n",
       "      <td>Todd Rundgren</td>\n",
       "      <td>A Dream Goes On Forever</td>\n",
       "      <td>2017-11-29 06:13:00</td>\n",
       "    </tr>\n",
       "    <tr>\n",
       "      <th>215</th>\n",
       "      <td>Lou Reed</td>\n",
       "      <td>A Gift</td>\n",
       "      <td>2017-11-29 06:16:00</td>\n",
       "    </tr>\n",
       "  </tbody>\n",
       "</table>"
      ],
      "text/plain": [
       "<IPython.core.display.HTML object>"
      ]
     },
     "execution_count": 23,
     "metadata": {},
     "output_type": "execute_result"
    }
   ],
   "source": [
    "HTML(seventies.head(5).to_html())"
   ]
  },
  {
   "cell_type": "code",
   "execution_count": 24,
   "metadata": {
    "collapsed": false
   },
   "outputs": [
    {
     "data": {
      "text/html": [
       "<table border=\"1\" class=\"dataframe\">\n",
       "  <thead>\n",
       "    <tr style=\"text-align: right;\">\n",
       "      <th></th>\n",
       "      <th>Artist</th>\n",
       "      <th>Title</th>\n",
       "      <th>Air Time</th>\n",
       "    </tr>\n",
       "  </thead>\n",
       "  <tbody>\n",
       "    <tr>\n",
       "      <th>count</th>\n",
       "      <td>2888</td>\n",
       "      <td>2888</td>\n",
       "      <td>2888</td>\n",
       "    </tr>\n",
       "    <tr>\n",
       "      <th>unique</th>\n",
       "      <td>859</td>\n",
       "      <td>2780</td>\n",
       "      <td>2887</td>\n",
       "    </tr>\n",
       "    <tr>\n",
       "      <th>top</th>\n",
       "      <td>Neil Young</td>\n",
       "      <td>Cocaine</td>\n",
       "      <td>2017-12-01 16:24:00</td>\n",
       "    </tr>\n",
       "    <tr>\n",
       "      <th>freq</th>\n",
       "      <td>41</td>\n",
       "      <td>3</td>\n",
       "      <td>2</td>\n",
       "    </tr>\n",
       "    <tr>\n",
       "      <th>first</th>\n",
       "      <td></td>\n",
       "      <td></td>\n",
       "      <td>2017-11-29 06:02:00</td>\n",
       "    </tr>\n",
       "    <tr>\n",
       "      <th>last</th>\n",
       "      <td></td>\n",
       "      <td></td>\n",
       "      <td>2017-12-08 15:40:00</td>\n",
       "    </tr>\n",
       "  </tbody>\n",
       "</table>"
      ],
      "text/plain": [
       "<IPython.core.display.HTML object>"
      ]
     },
     "execution_count": 24,
     "metadata": {},
     "output_type": "execute_result"
    }
   ],
   "source": [
    "HTML(seventies.describe(include='all', percentiles=[]).to_html(na_rep=''))"
   ]
  },
  {
   "cell_type": "code",
   "execution_count": null,
   "metadata": {
    "collapsed": true
   },
   "outputs": [],
   "source": []
  }
 ],
 "metadata": {
  "kernelspec": {
   "display_name": "Python 2",
   "language": "python",
   "name": "python2"
  },
  "language_info": {
   "codemirror_mode": {
    "name": "ipython",
    "version": 2
   },
   "file_extension": ".py",
   "mimetype": "text/x-python",
   "name": "python",
   "nbconvert_exporter": "python",
   "pygments_lexer": "ipython2",
   "version": "2.7.13"
  }
 },
 "nbformat": 4,
 "nbformat_minor": 2
}
