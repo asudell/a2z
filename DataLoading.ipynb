{
 "cells": [
  {
   "cell_type": "markdown",
   "metadata": {},
   "source": [
    "# Data Loading and Cleaning"
   ]
  },
  {
   "cell_type": "markdown",
   "metadata": {},
   "source": [
    "## Overview\n",
    "\n",
    "Part of the frenzy that is doing these stats tends to create a bit of messy data collection code for a few reasons: the countdowns are \"unannounced surprises\", they have limited time spans, it's a side project, and I want to be timely.  Having said that, I wanted to clean it up a bit and codify what I've learned.  So here goes"
   ]
  },
  {
   "cell_type": "markdown",
   "metadata": {},
   "source": [
    "## Setup\n",
    "\n",
    "Under the covers it mostly a combo of [requests](http://docs.python-requests.org/en/master/) and [lxml](http://lxml.de/) for webscraping and (pandas)[https://pandas.pydata.org/] for data munging.  Before we get started, set up the imports"
   ]
  },
  {
   "cell_type": "code",
   "execution_count": 1,
   "metadata": {
    "collapsed": true
   },
   "outputs": [],
   "source": [
    "%matplotlib inline\n",
    "from IPython.display import display, HTML\n",
    "import requests \n",
    "from lxml import html\n",
    "import pandas as pd\n",
    "from datetime import date, datetime, time\n",
    "from os import path, mkdir\n",
    "import re\n"
   ]
  },
  {
   "cell_type": "markdown",
   "metadata": {},
   "source": [
    "### Set up cache/data directories"
   ]
  },
  {
   "cell_type": "code",
   "execution_count": 2,
   "metadata": {
    "collapsed": false
   },
   "outputs": [],
   "source": [
    "\n",
    "cache_dir = './cache'\n",
    "playlist_cache_dir = path.join(cache_dir, 'playlists')\n",
    "a2z_cache_dir = path.join(cache_dir, 'a2z')\n",
    "a2z70s_cache_dir = path.join(cache_dir, 'a2z70s')\n",
    "data_dir = './data'\n",
    "\n",
    "for d in (cache_dir, playlist_cache_dir, a2z_cache_dir, a2z70s_cache_dir, data_dir):\n",
    "    if not path.exists(d): mkdir(d)"
   ]
  },
  {
   "cell_type": "markdown",
   "metadata": {},
   "source": [
    "## Generic XPN Playlist scraping\n",
    "\n",
    "Origionaly I tended to rely on the one-off countdown pages for playlists.\n",
    "But eventually I ended up using the generic playlist at [http://xpn.org/playlists/xpn-playlist](http://xpn.org/playlists/xpn-playlist).\n",
    "I've done this enough, it's past time to turn it into something reusable."
   ]
  },
  {
   "cell_type": "code",
   "execution_count": 3,
   "metadata": {
    "collapsed": false
   },
   "outputs": [],
   "source": [
    "def fetch_playlist(day, cache_dir=None, verbose = False):\n",
    "    \"\"\"\n",
    "    Fetches the XPN playlist for a given data\n",
    "    \n",
    "    Args:\n",
    "        day (datetime.date) : The day to fetch the playlist for\n",
    "        cache_dir (string)  : Path to the cache directory, or None to avoid caching\n",
    "    \n",
    "    Returns:\n",
    "        DataFrame containing Artist and Title as Strings and Airtime as Timestamp\n",
    "    \"\"\"\n",
    "    songs = pd.DataFrame(None, columns=['Artist', 'Title', 'Air Time'])\n",
    "    if cache_dir is not None:\n",
    "        cache_file =  path.join(cache_dir, \"%04d-%02d-%02d.csv\" % \\\n",
    "                                (day.year, day.month, day.day))\n",
    "    if cache_file is not None and path.exists(cache_file):\n",
    "        songs = pd.read_csv(cache_file)\n",
    "        songs['Air Time'] = pd.to_datetime(songs['Air Time'], errors='coerce')\n",
    "        if verbose: print \"Got %d rows from %s\" % (len(songs), cache_file)\n",
    "    else:\n",
    "        day_s = '%02d-%02d-%04d' % (day.month, day.day, day.year)\n",
    "        page = requests.post('http://xpn.org/playlists/xpn-playlist',\n",
    "                                 data = {'playlistdate': day_s})\n",
    "        if verbose: print \"fetching %s returned status %s\" % (day_s, page.status_code)\n",
    "        #tree = html.fromstring(page.content.replace('\\x91', ' '))\n",
    "        tree = html.fromstring(page.content)\n",
    "        tracks = tree.xpath('//h3/a/text()')\n",
    "        # not all rows are tracks, some are membership callouts\n",
    "        # but real tracks start with times and are formatted\n",
    "        # HH:MM [am|pm] Artist - Title\n",
    "        # Note that I've seen titles with embedded dashes,\n",
    "        # but so far no artist names with them.  This may be luck.\n",
    "        # Special programs like World Cafe, Echos, ...\n",
    "        # also start with an air time, but don't have useful track info\n",
    "        # but those list the program inside bars\n",
    "        # eg |World Cafe| -  \"Wednesday 11-2-2016 Hour 2, Part 7\"\n",
    "        date_regex = re.compile(\"^\\d{2}:\\d{2}\\s\")\n",
    "        line_count= 0\n",
    "        track_count = 0\n",
    "        for track in tracks:\n",
    "            line_count += 1\n",
    "            if date_regex.match(track) and track[9:10] != '|':\n",
    "                (artist, title) = track[9:].split(' - ', 1)\n",
    "                dt = datetime.strptime(track[:8], '%I:%M %p')\n",
    "                air_time = datetime.combine(day, dt.time())\n",
    "                if verbose: print \"adding %s %s %s\" % (artist, title, air_time)\n",
    "                songs = songs.append({'Artist': artist,\n",
    "                                      'Title': title,\n",
    "                                      'Air Time': air_time},\n",
    "                                     ignore_index = True)\n",
    "                if verbose: print \"size = %d\" % len(songs)\n",
    "                track_count += 1\n",
    "            \n",
    "        if verbose: print 'read %d line and added %d tracks' % (line_count, track_count)\n",
    "        # Drop any duplicates, which are not uncommon\n",
    "        songs = songs.drop_duplicates()\n",
    "        if cache_file is not None:\n",
    "            songs.to_csv(cache_file, index=False)\n",
    "            if verbose: print 'write %d rows to %s' % (len(songs), cache_file)\n",
    "    \n",
    "    return songs\n"
   ]
  },
  {
   "cell_type": "markdown",
   "metadata": {},
   "source": [
    "### XPN 70's A to Z playlist\n",
    "\n",
    "The 70s's AtoZ started at 6:00 am on Nov 29 2107.\n",
    "At this time it is still running.\n",
    "The only interruptions have been for Free at Noons,\n",
    "that don't appear in the playlist,\n",
    "but show as gaps from 12 noon to 12:40 or so on Fridays.\n"
   ]
  },
  {
   "cell_type": "code",
   "execution_count": 4,
   "metadata": {
    "collapsed": false
   },
   "outputs": [
    {
     "name": "stdout",
     "output_type": "stream",
     "text": [
      "got 4157 rows\n"
     ]
    }
   ],
   "source": [
    "start_time = datetime(2017, 11, 29, 06, 00)\n",
    "end_time = datetime(2017,12,12, 19, 00)\n",
    "seventies = pd.DataFrame(None, columns=['Artist', 'Title', 'Air Time'])\n",
    "for day in pd.date_range(start_time.date(), end_time.date()):\n",
    "    seventies = seventies.append(fetch_playlist(day, playlist_cache_dir), ignore_index=True)\n",
    "# delete data before the start time\n",
    "seventies = seventies[seventies['Air Time'] >= start_time]\n",
    "# Cover what looks like a Free at Noon slid into the play list\n",
    "seventies = seventies[seventies['Title'] != 'The Runner']\n",
    "seventies = seventies.sort_values(by = 'Air Time')\n",
    "\n",
    "print \"got %d rows\" % len(seventies)"
   ]
  },
  {
   "cell_type": "markdown",
   "metadata": {},
   "source": [
    "Look at what we got a bit"
   ]
  },
  {
   "cell_type": "code",
   "execution_count": 5,
   "metadata": {
    "collapsed": false
   },
   "outputs": [
    {
     "data": {
      "text/html": [
       "<table border=\"1\" class=\"dataframe\">\n",
       "  <thead>\n",
       "    <tr style=\"text-align: right;\">\n",
       "      <th></th>\n",
       "      <th>Artist</th>\n",
       "      <th>Title</th>\n",
       "      <th>Air Time</th>\n",
       "    </tr>\n",
       "  </thead>\n",
       "  <tbody>\n",
       "    <tr>\n",
       "      <th>219</th>\n",
       "      <td>Steeleye Span</td>\n",
       "      <td>A Calling-On Song</td>\n",
       "      <td>2017-11-29 06:02:00</td>\n",
       "    </tr>\n",
       "    <tr>\n",
       "      <th>218</th>\n",
       "      <td>Joni Mitchell</td>\n",
       "      <td>A Case Of You</td>\n",
       "      <td>2017-11-29 06:03:00</td>\n",
       "    </tr>\n",
       "    <tr>\n",
       "      <th>217</th>\n",
       "      <td>Boz Scaggs</td>\n",
       "      <td>A Clue</td>\n",
       "      <td>2017-11-29 06:07:00</td>\n",
       "    </tr>\n",
       "    <tr>\n",
       "      <th>216</th>\n",
       "      <td>Todd Rundgren</td>\n",
       "      <td>A Dream Goes On Forever</td>\n",
       "      <td>2017-11-29 06:13:00</td>\n",
       "    </tr>\n",
       "    <tr>\n",
       "      <th>215</th>\n",
       "      <td>Lou Reed</td>\n",
       "      <td>A Gift</td>\n",
       "      <td>2017-11-29 06:16:00</td>\n",
       "    </tr>\n",
       "  </tbody>\n",
       "</table>"
      ],
      "text/plain": [
       "<IPython.core.display.HTML object>"
      ]
     },
     "execution_count": 5,
     "metadata": {},
     "output_type": "execute_result"
    }
   ],
   "source": [
    "HTML(seventies.head(5).to_html())"
   ]
  },
  {
   "cell_type": "code",
   "execution_count": 6,
   "metadata": {
    "collapsed": false
   },
   "outputs": [
    {
     "data": {
      "text/html": [
       "<table border=\"1\" class=\"dataframe\">\n",
       "  <thead>\n",
       "    <tr style=\"text-align: right;\">\n",
       "      <th></th>\n",
       "      <th>Artist</th>\n",
       "      <th>Title</th>\n",
       "      <th>Air Time</th>\n",
       "    </tr>\n",
       "  </thead>\n",
       "  <tbody>\n",
       "    <tr>\n",
       "      <th>count</th>\n",
       "      <td>4157</td>\n",
       "      <td>4157</td>\n",
       "      <td>4157</td>\n",
       "    </tr>\n",
       "    <tr>\n",
       "      <th>unique</th>\n",
       "      <td>1028</td>\n",
       "      <td>4000</td>\n",
       "      <td>4154</td>\n",
       "    </tr>\n",
       "    <tr>\n",
       "      <th>top</th>\n",
       "      <td>David Bowie</td>\n",
       "      <td>She's Gone</td>\n",
       "      <td>2017-12-10 23:17:00</td>\n",
       "    </tr>\n",
       "    <tr>\n",
       "      <th>freq</th>\n",
       "      <td>63</td>\n",
       "      <td>3</td>\n",
       "      <td>2</td>\n",
       "    </tr>\n",
       "    <tr>\n",
       "      <th>first</th>\n",
       "      <td></td>\n",
       "      <td></td>\n",
       "      <td>2017-11-29 06:02:00</td>\n",
       "    </tr>\n",
       "    <tr>\n",
       "      <th>last</th>\n",
       "      <td></td>\n",
       "      <td></td>\n",
       "      <td>2017-12-12 18:54:00</td>\n",
       "    </tr>\n",
       "  </tbody>\n",
       "</table>"
      ],
      "text/plain": [
       "<IPython.core.display.HTML object>"
      ]
     },
     "execution_count": 6,
     "metadata": {},
     "output_type": "execute_result"
    }
   ],
   "source": [
    "HTML(seventies.describe(include='all', percentiles=[]).to_html(na_rep=''))"
   ]
  },
  {
   "cell_type": "markdown",
   "metadata": {},
   "source": [
    "### The Origional A-Z Playlist"
   ]
  },
  {
   "cell_type": "code",
   "execution_count": 7,
   "metadata": {
    "collapsed": false
   },
   "outputs": [
    {
     "name": "stdout",
     "output_type": "stream",
     "text": [
      "got 5691 rows\n"
     ]
    }
   ],
   "source": [
    "start_time = datetime(2016, 11, 30, 06, 00)\n",
    "end_time = datetime(2016, 12, 17, 13, 30)\n",
    "originals = pd.DataFrame(None, columns=['Artist', 'Title', 'Air Time'])\n",
    "for day in pd.date_range(start_time.date(), end_time.date()):\n",
    "    originals = originals.append(fetch_playlist(day, playlist_cache_dir), ignore_index=True)\n",
    "# delete data before the start time\n",
    "originals = originals.drop_duplicates()\n",
    "originals['Air Time'] = pd.to_datetime(originals['Air Time'], errors='coerce')\n",
    "originals = originals[originals['Air Time'] >= start_time]\n",
    "originals = originals[originals['Air Time'] < end_time]\n",
    "originals = originals.sort_values(by = 'Air Time')\n",
    "\n",
    "print \"got %d rows\" % len(originals)"
   ]
  },
  {
   "cell_type": "markdown",
   "metadata": {
    "collapsed": true
   },
   "source": [
    "## Augmenting the Data"
   ]
  },
  {
   "cell_type": "markdown",
   "metadata": {},
   "source": [
    "### Scraping the Playlist Specific Pages\n",
    "\n",
    "For the origional and 70s A-Z, but not the A-Z leftovers,\n",
    "the station put up cpountdown specific pages with play lists\n",
    "in a slightly different format.\n",
    "One advantage of using them is that they only include tracks from the countdown,\n",
    "avoiding any need for time checking the data.\n",
    "Another is that for the 70s A-Z,\n",
    "they added lists by year.\n",
    "Given the pain it was to search MusicBrainz for songs and\n",
    "figure out the year, that's worth having.\n"
   ]
  },
  {
   "cell_type": "markdown",
   "metadata": {},
   "source": [
    "#### 70s A-Z Page\n"
   ]
  },
  {
   "cell_type": "markdown",
   "metadata": {},
   "source": [
    "##### Alphabetical Lists\n",
    "Now that I've moved to the main playlist,\n",
    "I don't know that the alphabetical lists buy much.\n",
    "Getting the first letter ourselves is pretty easy.\n",
    "But since older versions of the code used it,\n",
    "we'll at least archive them"
   ]
  },
  {
   "cell_type": "code",
   "execution_count": 8,
   "metadata": {
    "collapsed": false
   },
   "outputs": [
    {
     "name": "stdout",
     "output_type": "stream",
     "text": [
      "got 4202 songs by letter\n"
     ]
    }
   ],
   "source": [
    "alphabet = 'ABCDEFGHIJKLMNOPQRSTUVWXYZ'\n",
    "\n",
    "seventies_by_letter = pd.DataFrame(None, columns = ['Title', 'Artist', 'Letter'])\n",
    "for letter in alphabet:\n",
    "    cache_file = path.join(a2z70s_cache_dir, '%s.csv' % letter)\n",
    "    if path.exists(cache_file):\n",
    "        df = pd.read_csv(cache_file)\n",
    "    else:\n",
    "        rows = []\n",
    "        page = requests.get('http://xpn.org/static/az2017.php?q=%s' % letter)\n",
    "        tree = html.fromstring(page.content)\n",
    "        songs = tree.xpath('//li/text()')\n",
    "        for song in songs:\n",
    "            rows.append(song.rsplit(' - ', 1) + [letter])\n",
    "        df = pd.DataFrame(rows, columns=['Title', 'Artist', 'Letter'])\n",
    "    df.to_csv(cache_file, index=False)\n",
    "    seventies_by_letter = seventies_by_letter.append(df, ignore_index=True)\n",
    "\n",
    "print \"got %d songs by letter\" % len(seventies_by_letter)"
   ]
  },
  {
   "cell_type": "markdown",
   "metadata": {},
   "source": [
    "##### Lists by Year"
   ]
  },
  {
   "cell_type": "code",
   "execution_count": 9,
   "metadata": {
    "collapsed": false
   },
   "outputs": [
    {
     "name": "stdout",
     "output_type": "stream",
     "text": [
      "got 3699 songs by year\n"
     ]
    }
   ],
   "source": [
    "years = map(str, range(1970,1980))\n",
    "seventies_by_year = pd.DataFrame(None, columns = ['Title', 'Artist', 'Year'])\n",
    "for year in years:\n",
    "    cache_file = path.join(a2z70s_cache_dir, '%s.csv' % year)\n",
    "    if path.exists(cache_file):\n",
    "        df = pd.read_csv(cache_file)\n",
    "    else:\n",
    "        rows = []\n",
    "        page = requests.get('http://xpn.org/static/az2017v2.php?q=%s' % year)\n",
    "        tree = html.fromstring(page.content)\n",
    "        songs = tree.xpath('//li/text()')\n",
    "        for song in songs:\n",
    "            rows.append(song.rsplit(' - ', 1) + [year])\n",
    "        df = pd.DataFrame(rows, columns=['Title', 'Artist', 'Year'])\n",
    "    df.to_csv(cache_file, index=False)\n",
    "    seventies_by_year = seventies_by_year.append(df, ignore_index=True)\n",
    "\n",
    "seventies_by_year.to_csv(path.join(data_dir, 'seventies_by_year.csv'))\n",
    "print 'got %d songs by year' % len(seventies_by_year)"
   ]
  },
  {
   "cell_type": "markdown",
   "metadata": {},
   "source": [
    "### Best and Worst"
   ]
  },
  {
   "cell_type": "code",
   "execution_count": 10,
   "metadata": {
    "collapsed": true
   },
   "outputs": [],
   "source": [
    "def fetch_best(playlist_url, pagecount):\n",
    "    \"\"\"\n",
    "    Fetch data from the 885 best or 88 worst playlists.\n",
    "    Both use the same format, just different urls and \n",
    "    more or fewer pages.\n",
    "    \n",
    "    Args:\n",
    "        playlist_url (string) : base url for the playlist\n",
    "        pagecount (int) : number of pages to ge\n",
    "    Returns:\n",
    "        DataFrame containing the track data\n",
    "    \"\"\"\n",
    "    \n",
    "    rows = []\n",
    "    \n",
    "    for page_no in range(1, pagecount + 1):\n",
    "        args = {'page': page_no}\n",
    "        page = requests.get(playlist_url, params = args)\n",
    "        tree = html.fromstring(page.content)\n",
    "        tracks = tree.xpath(\"//*/tr[@class='countdown']\")\n",
    "        for track in tracks:\n",
    "            artist = track.xpath('./td[2]/text()')[0]\n",
    "            title = track.xpath('./td[@class=\"song\"]/text()')[0]\n",
    "            rows.append([title, artist])\n",
    "    df = pd.DataFrame(rows, columns = ['Title', 'Artist'])\n",
    "    return df\n"
   ]
  },
  {
   "cell_type": "code",
   "execution_count": 11,
   "metadata": {
    "collapsed": false
   },
   "outputs": [
    {
     "data": {
      "text/html": [
       "<table border=\"1\" class=\"dataframe\">\n",
       "  <thead>\n",
       "    <tr style=\"text-align: right;\">\n",
       "      <th></th>\n",
       "      <th>Title</th>\n",
       "      <th>Artist</th>\n",
       "    </tr>\n",
       "  </thead>\n",
       "  <tbody>\n",
       "    <tr>\n",
       "      <th>0</th>\n",
       "      <td>Thunder Road</td>\n",
       "      <td>Bruce Springsteen</td>\n",
       "    </tr>\n",
       "    <tr>\n",
       "      <th>1</th>\n",
       "      <td>Like A Rolling Stone</td>\n",
       "      <td>Bob Dylan</td>\n",
       "    </tr>\n",
       "    <tr>\n",
       "      <th>2</th>\n",
       "      <td>Imagine</td>\n",
       "      <td>John Lennon</td>\n",
       "    </tr>\n",
       "    <tr>\n",
       "      <th>3</th>\n",
       "      <td>A Day In The Life</td>\n",
       "      <td>The Beatles</td>\n",
       "    </tr>\n",
       "    <tr>\n",
       "      <th>4</th>\n",
       "      <td>Born To Run</td>\n",
       "      <td>Bruce Springsteen</td>\n",
       "    </tr>\n",
       "  </tbody>\n",
       "</table>"
      ],
      "text/plain": [
       "<IPython.core.display.HTML object>"
      ]
     },
     "execution_count": 11,
     "metadata": {},
     "output_type": "execute_result"
    }
   ],
   "source": [
    "best885_file = path.join(data_dir, '885best.csv')\n",
    "if not path.exists(best885_file):\n",
    "    best885 = fetch_best('http://www.xpn.org/music-artist/885-countdown/2014/885-countdown-2014',18)\n",
    "    best885.to_csv(best885_file, index=False)\n",
    "else:\n",
    "    best885 = pd.read_csv(best885_file)\n",
    "    \n",
    "HTML(best885.head(5).to_html())\n",
    "                     "
   ]
  },
  {
   "cell_type": "code",
   "execution_count": 12,
   "metadata": {
    "collapsed": false
   },
   "outputs": [
    {
     "data": {
      "text/html": [
       "<table border=\"1\" class=\"dataframe\">\n",
       "  <thead>\n",
       "    <tr style=\"text-align: right;\">\n",
       "      <th></th>\n",
       "      <th>Title</th>\n",
       "      <th>Artist</th>\n",
       "    </tr>\n",
       "  </thead>\n",
       "  <tbody>\n",
       "    <tr>\n",
       "      <th>0</th>\n",
       "      <td>We Built This City</td>\n",
       "      <td>Starship</td>\n",
       "    </tr>\n",
       "    <tr>\n",
       "      <th>1</th>\n",
       "      <td>Who Let The Dogs Out</td>\n",
       "      <td>Baha Men</td>\n",
       "    </tr>\n",
       "    <tr>\n",
       "      <th>2</th>\n",
       "      <td>Achy Breaky Heart</td>\n",
       "      <td>Billy Ray Cyrus</td>\n",
       "    </tr>\n",
       "    <tr>\n",
       "      <th>3</th>\n",
       "      <td>(You're) Having My Baby</td>\n",
       "      <td>Paul Anka</td>\n",
       "    </tr>\n",
       "    <tr>\n",
       "      <th>4</th>\n",
       "      <td>Macarena</td>\n",
       "      <td>Los Del Rio</td>\n",
       "    </tr>\n",
       "  </tbody>\n",
       "</table>"
      ],
      "text/plain": [
       "<IPython.core.display.HTML object>"
      ]
     },
     "execution_count": 12,
     "metadata": {},
     "output_type": "execute_result"
    }
   ],
   "source": [
    "worst88_file = path.join(data_dir, '88worst.csv')\n",
    "if not path.exists(worst88_file):\n",
    "    worst88 = fetch_best('http://www.xpn.org/music-artist/885-countdown/2014/885-countdown-2014-88-worst',2)\n",
    "    worst88.to_csv(worst88_file, index=False)\n",
    "else:\n",
    "    worst88 = pd.read_csv(worst88_file)\n",
    "    \n",
    "HTML(worst88.head(5).to_html())"
   ]
  },
  {
   "cell_type": "markdown",
   "metadata": {},
   "source": [
    "### Putting it together\n",
    "\n",
    "One might think that we can just join up the data.\n",
    "However there is a catch.\n",
    "There are some cases where one or more of the URLs will return legitimte duplicates.\n",
    "For example two entries for the same song / artist at the same time in the main playlist page.\n",
    "However there are also valid entries for the same song / artist,\n",
    "at different times, released in different years.\n",
    "The catch is that there is no common key between our three sources to join on.\n",
    "If we dedupe on title and artist we drop real tracks.\n",
    "But doing a cartesian product would generate 4 apparent tracks for two tracks.\n",
    "So we need to build an artificial key."
   ]
  },
  {
   "cell_type": "code",
   "execution_count": 13,
   "metadata": {
    "collapsed": false
   },
   "outputs": [],
   "source": [
    "seventies = seventies.sort_values(by='Air Time')\n",
    "seventies['Play'] = pd.Series([0 for x in range(len(seventies.index))], index=seventies.index)\n",
    "last = None\n",
    "count = 0\n",
    "for idx, row in seventies.iterrows():\n",
    "    if last is None or last != (row['Title'], row['Artist']):\n",
    "        last = (row['Title'], row['Artist'])\n",
    "        count = 0\n",
    "    else:\n",
    "        count += 1\n",
    "        seventies.loc[idx, 'Play'] = count\n",
    "\n",
    "seventies_by_letter = seventies_by_letter.drop_duplicates()\n",
    "\n",
    "seventies_by_year = seventies_by_year.sort_values(by=['Title', 'Artist'])\n",
    "seventies_by_year['Play'] = pd.Series([0 for x in range(len(seventies_by_year.index))], index=seventies_by_year.index)\n",
    "last = None\n",
    "count = 0\n",
    "for idx, row in seventies_by_year.iterrows():\n",
    "    if last is None or last != (row['Title'], row['Artist']):\n",
    "        last = (row['Title'], row['Artist'])\n",
    "        count = 0\n",
    "    else:\n",
    "        count += 1\n",
    "        seventies_by_year.loc[idx, 'Play'] = count\n",
    "\n",
    "seventies = seventies.merge(seventies_by_year, how='left', on=['Artist', 'Title', 'Play'])\n",
    "seventies = seventies.merge(seventies_by_letter, how='left', on=['Artist', 'Title'])\n",
    "seventies['Year'] = seventies['Year'].fillna(0.0).astype(int)\n",
    "seventies['Air Time'] = pd.to_datetime(seventies['Air Time'], errors='coerce')\n",
    "\n",
    "\n"
   ]
  },
  {
   "cell_type": "markdown",
   "metadata": {},
   "source": [
    "### Extracting First Words"
   ]
  },
  {
   "cell_type": "code",
   "execution_count": 14,
   "metadata": {
    "collapsed": false
   },
   "outputs": [],
   "source": [
    "from nltk.tokenize import RegexpTokenizer\n",
    "custom_tokenize = RegexpTokenizer(\"[\\w'\\-]+|[^\\w'\\s\\-]\").tokenize\n",
    "seventies = seventies.join(seventies.apply(lambda x: custom_tokenize(x[1])[0], axis=1).to_frame('First Word'))\n"
   ]
  },
  {
   "cell_type": "markdown",
   "metadata": {},
   "source": [
    "#### Adding First Letter to Origionals\n",
    "For last year's playlist, we'll figure out the song letters the old fashioned way,\n",
    "we'll just take the first element of the title."
   ]
  },
  {
   "cell_type": "code",
   "execution_count": 15,
   "metadata": {
    "collapsed": false
   },
   "outputs": [],
   "source": [
    "originals = originals.join(originals.apply(lambda x: x[1][0].upper(), axis=1).to_frame('Letter'))"
   ]
  },
  {
   "cell_type": "markdown",
   "metadata": {},
   "source": [
    "### Estimating Durations\n",
    "\n",
    "Since we have air times, we can approximate durations by subtracting the air time from the next track's air times.  There are a couple catches with this\n",
    "- we need to pass in an explicit end time for the last track, but that's minor\n",
    "- we need to add some logic to 'skip over' the free at noons that happen on fridays form 12 noon till \"like 12:40 or so\" and don't appear in the playlist at all\n",
    "- the granularity is a bit course, as it is on a one minute basis.  We could be off by almost two minutes per song, but it ought to even out.\n",
    "- there's no clear way to account for \"non-song time\" like station promos, hosts introducing songs, station ids, and so forth.  Fortunatly, the percentage of time that is really music is pretty high thanks to XPN being listener supported.\n",
    "\n",
    "We'll do this for both the current and origional playlists."
   ]
  },
  {
   "cell_type": "code",
   "execution_count": 16,
   "metadata": {
    "collapsed": false
   },
   "outputs": [],
   "source": [
    "def estimate_durations(playlist, end_time=None):\n",
    "    \"\"\"\n",
    "    Estimate the song durations\n",
    "    Args: \n",
    "        playlist (DataFrame): playlist with minimally an 'Air Time' attribute\n",
    "        end_time (datetime): end time of the play list, or None if still going\n",
    "    Return:\n",
    "        modified DataFrame with 'Duration' attribute added.\n",
    "    \"\"\"\n",
    "    \n",
    "    playlist['Duration'] = pd.Series([0 for x in range(len(playlist.index))], index=playlist.index)\n",
    "    previous = None\n",
    "    last_idx = None\n",
    "    for idx, row in playlist.iterrows():\n",
    "        if not previous is None:\n",
    "            if row['Air Time'].date().weekday() == 4 and previous.hour == 11 and row['Air Time'].hour == 12:\n",
    "                # We just fell into a free at noon\n",
    "                playlist.loc[last_idx, 'Duration'] = 60 - previous.minute\n",
    "            else:\n",
    "                # just subtract this start from the previous\n",
    "                delta = row['Air Time'] - previous\n",
    "                playlist.loc[last_idx, 'Duration'] = delta.seconds / 60\n",
    "        previous = row['Air Time']\n",
    "        last_idx = idx\n",
    "\n",
    "    # fixup the last row\n",
    "    if end_time is not None:    \n",
    "        delta = end_time - playlist.loc[last_idx,'Air Time']\n",
    "        playlist.loc[last_idx, 'Duration'] = delta.seconds / 60\n",
    "    \n",
    "    return playlist\n",
    "        "
   ]
  },
  {
   "cell_type": "code",
   "execution_count": 18,
   "metadata": {
    "collapsed": false
   },
   "outputs": [],
   "source": [
    "seventies = estimate_durations(seventies, datetime(2017,12,12, 19, 00))\n",
    "orginals = estimate_durations(originals, datetime(2016, 12, 17, 13, 30 ))"
   ]
  },
  {
   "cell_type": "markdown",
   "metadata": {},
   "source": [
    "## Checking the Results"
   ]
  },
  {
   "cell_type": "code",
   "execution_count": 19,
   "metadata": {
    "collapsed": false
   },
   "outputs": [
    {
     "data": {
      "text/html": [
       "<table border=\"1\" class=\"dataframe\">\n",
       "  <thead>\n",
       "    <tr style=\"text-align: right;\">\n",
       "      <th></th>\n",
       "      <th>Artist</th>\n",
       "      <th>Title</th>\n",
       "      <th>Air Time</th>\n",
       "      <th>Play</th>\n",
       "      <th>Year</th>\n",
       "      <th>Letter</th>\n",
       "      <th>First Word</th>\n",
       "      <th>Duration</th>\n",
       "    </tr>\n",
       "  </thead>\n",
       "  <tbody>\n",
       "    <tr>\n",
       "      <th>0</th>\n",
       "      <td>Steeleye Span</td>\n",
       "      <td>A Calling-On Song</td>\n",
       "      <td>2017-11-29 06:02:00</td>\n",
       "      <td>0</td>\n",
       "      <td>1970</td>\n",
       "      <td>A</td>\n",
       "      <td>A</td>\n",
       "      <td>1</td>\n",
       "    </tr>\n",
       "    <tr>\n",
       "      <th>1</th>\n",
       "      <td>Joni Mitchell</td>\n",
       "      <td>A Case Of You</td>\n",
       "      <td>2017-11-29 06:03:00</td>\n",
       "      <td>0</td>\n",
       "      <td>1971</td>\n",
       "      <td>A</td>\n",
       "      <td>A</td>\n",
       "      <td>4</td>\n",
       "    </tr>\n",
       "    <tr>\n",
       "      <th>2</th>\n",
       "      <td>Boz Scaggs</td>\n",
       "      <td>A Clue</td>\n",
       "      <td>2017-11-29 06:07:00</td>\n",
       "      <td>0</td>\n",
       "      <td>1977</td>\n",
       "      <td>A</td>\n",
       "      <td>A</td>\n",
       "      <td>6</td>\n",
       "    </tr>\n",
       "    <tr>\n",
       "      <th>3</th>\n",
       "      <td>Todd Rundgren</td>\n",
       "      <td>A Dream Goes On Forever</td>\n",
       "      <td>2017-11-29 06:13:00</td>\n",
       "      <td>0</td>\n",
       "      <td>1974</td>\n",
       "      <td>A</td>\n",
       "      <td>A</td>\n",
       "      <td>3</td>\n",
       "    </tr>\n",
       "    <tr>\n",
       "      <th>4</th>\n",
       "      <td>Lou Reed</td>\n",
       "      <td>A Gift</td>\n",
       "      <td>2017-11-29 06:16:00</td>\n",
       "      <td>0</td>\n",
       "      <td>1975</td>\n",
       "      <td>A</td>\n",
       "      <td>A</td>\n",
       "      <td>7</td>\n",
       "    </tr>\n",
       "    <tr>\n",
       "      <th>5</th>\n",
       "      <td>Poco</td>\n",
       "      <td>A Good Feelin' To Know</td>\n",
       "      <td>2017-11-29 06:23:00</td>\n",
       "      <td>0</td>\n",
       "      <td>1972</td>\n",
       "      <td>A</td>\n",
       "      <td>A</td>\n",
       "      <td>3</td>\n",
       "    </tr>\n",
       "    <tr>\n",
       "      <th>6</th>\n",
       "      <td>Mac Davis</td>\n",
       "      <td>A Little Less Conversation</td>\n",
       "      <td>2017-11-29 06:26:00</td>\n",
       "      <td>0</td>\n",
       "      <td>1971</td>\n",
       "      <td>A</td>\n",
       "      <td>A</td>\n",
       "      <td>3</td>\n",
       "    </tr>\n",
       "    <tr>\n",
       "      <th>7</th>\n",
       "      <td>Neil Young</td>\n",
       "      <td>A Man Needs A Maid</td>\n",
       "      <td>2017-11-29 06:29:00</td>\n",
       "      <td>0</td>\n",
       "      <td>1972</td>\n",
       "      <td>A</td>\n",
       "      <td>A</td>\n",
       "      <td>4</td>\n",
       "    </tr>\n",
       "    <tr>\n",
       "      <th>8</th>\n",
       "      <td>Lou Rawls</td>\n",
       "      <td>A Natural Man</td>\n",
       "      <td>2017-11-29 06:33:00</td>\n",
       "      <td>0</td>\n",
       "      <td>1971</td>\n",
       "      <td>A</td>\n",
       "      <td>A</td>\n",
       "      <td>3</td>\n",
       "    </tr>\n",
       "    <tr>\n",
       "      <th>9</th>\n",
       "      <td>David Bowie</td>\n",
       "      <td>A New Career In A New Town</td>\n",
       "      <td>2017-11-29 06:36:00</td>\n",
       "      <td>0</td>\n",
       "      <td>1977</td>\n",
       "      <td>A</td>\n",
       "      <td>A</td>\n",
       "      <td>5</td>\n",
       "    </tr>\n",
       "  </tbody>\n",
       "</table>"
      ],
      "text/plain": [
       "<IPython.core.display.HTML object>"
      ]
     },
     "execution_count": 19,
     "metadata": {},
     "output_type": "execute_result"
    }
   ],
   "source": [
    "HTML(seventies.head(10).to_html())"
   ]
  },
  {
   "cell_type": "code",
   "execution_count": 20,
   "metadata": {
    "collapsed": false
   },
   "outputs": [
    {
     "data": {
      "text/html": [
       "<table border=\"1\" class=\"dataframe\">\n",
       "  <thead>\n",
       "    <tr style=\"text-align: right;\">\n",
       "      <th></th>\n",
       "      <th>Artist</th>\n",
       "      <th>Title</th>\n",
       "      <th>Air Time</th>\n",
       "      <th>Play</th>\n",
       "      <th>Year</th>\n",
       "      <th>Letter</th>\n",
       "      <th>First Word</th>\n",
       "      <th>Duration</th>\n",
       "    </tr>\n",
       "  </thead>\n",
       "  <tbody>\n",
       "    <tr>\n",
       "      <th>count</th>\n",
       "      <td>4157</td>\n",
       "      <td>4157</td>\n",
       "      <td>4157</td>\n",
       "      <td>4157.000000</td>\n",
       "      <td>4157.000000</td>\n",
       "      <td>4153</td>\n",
       "      <td>4157</td>\n",
       "      <td>4157.000000</td>\n",
       "    </tr>\n",
       "    <tr>\n",
       "      <th>unique</th>\n",
       "      <td>1028</td>\n",
       "      <td>4000</td>\n",
       "      <td>4154</td>\n",
       "      <td></td>\n",
       "      <td></td>\n",
       "      <td>26</td>\n",
       "      <td>1853</td>\n",
       "      <td></td>\n",
       "    </tr>\n",
       "    <tr>\n",
       "      <th>top</th>\n",
       "      <td>David Bowie</td>\n",
       "      <td>She's Gone</td>\n",
       "      <td>2017-12-10 23:17:00</td>\n",
       "      <td></td>\n",
       "      <td></td>\n",
       "      <td>S</td>\n",
       "      <td>The</td>\n",
       "      <td></td>\n",
       "    </tr>\n",
       "    <tr>\n",
       "      <th>freq</th>\n",
       "      <td>63</td>\n",
       "      <td>3</td>\n",
       "      <td>2</td>\n",
       "      <td></td>\n",
       "      <td></td>\n",
       "      <td>449</td>\n",
       "      <td>170</td>\n",
       "      <td></td>\n",
       "    </tr>\n",
       "    <tr>\n",
       "      <th>first</th>\n",
       "      <td></td>\n",
       "      <td></td>\n",
       "      <td>2017-11-29 06:02:00</td>\n",
       "      <td></td>\n",
       "      <td></td>\n",
       "      <td></td>\n",
       "      <td></td>\n",
       "      <td></td>\n",
       "    </tr>\n",
       "    <tr>\n",
       "      <th>last</th>\n",
       "      <td></td>\n",
       "      <td></td>\n",
       "      <td>2017-12-12 18:54:00</td>\n",
       "      <td></td>\n",
       "      <td></td>\n",
       "      <td></td>\n",
       "      <td></td>\n",
       "      <td></td>\n",
       "    </tr>\n",
       "    <tr>\n",
       "      <th>mean</th>\n",
       "      <td></td>\n",
       "      <td></td>\n",
       "      <td></td>\n",
       "      <td>0.003127</td>\n",
       "      <td>1751.709887</td>\n",
       "      <td></td>\n",
       "      <td></td>\n",
       "      <td>4.668270</td>\n",
       "    </tr>\n",
       "    <tr>\n",
       "      <th>std</th>\n",
       "      <td></td>\n",
       "      <td></td>\n",
       "      <td></td>\n",
       "      <td>0.055841</td>\n",
       "      <td>624.754683</td>\n",
       "      <td></td>\n",
       "      <td></td>\n",
       "      <td>2.218651</td>\n",
       "    </tr>\n",
       "    <tr>\n",
       "      <th>min</th>\n",
       "      <td></td>\n",
       "      <td></td>\n",
       "      <td></td>\n",
       "      <td>0.000000</td>\n",
       "      <td>0.000000</td>\n",
       "      <td></td>\n",
       "      <td></td>\n",
       "      <td>0.000000</td>\n",
       "    </tr>\n",
       "    <tr>\n",
       "      <th>50%</th>\n",
       "      <td></td>\n",
       "      <td></td>\n",
       "      <td></td>\n",
       "      <td>0.000000</td>\n",
       "      <td>1974.000000</td>\n",
       "      <td></td>\n",
       "      <td></td>\n",
       "      <td>4.000000</td>\n",
       "    </tr>\n",
       "    <tr>\n",
       "      <th>max</th>\n",
       "      <td></td>\n",
       "      <td></td>\n",
       "      <td></td>\n",
       "      <td>1.000000</td>\n",
       "      <td>1979.000000</td>\n",
       "      <td></td>\n",
       "      <td></td>\n",
       "      <td>37.000000</td>\n",
       "    </tr>\n",
       "  </tbody>\n",
       "</table>"
      ],
      "text/plain": [
       "<IPython.core.display.HTML object>"
      ]
     },
     "execution_count": 20,
     "metadata": {},
     "output_type": "execute_result"
    }
   ],
   "source": [
    "HTML(seventies.describe(include='all', percentiles=[]).to_html(na_rep=''))"
   ]
  },
  {
   "cell_type": "code",
   "execution_count": 21,
   "metadata": {
    "collapsed": false
   },
   "outputs": [
    {
     "data": {
      "text/html": [
       "<table border=\"1\" class=\"dataframe\">\n",
       "  <thead>\n",
       "    <tr style=\"text-align: right;\">\n",
       "      <th></th>\n",
       "      <th>Artist</th>\n",
       "      <th>Title</th>\n",
       "      <th>Air Time</th>\n",
       "      <th>Letter</th>\n",
       "      <th>Duration</th>\n",
       "    </tr>\n",
       "  </thead>\n",
       "  <tbody>\n",
       "    <tr>\n",
       "      <th>245</th>\n",
       "      <td>Jackson 5</td>\n",
       "      <td>ABC</td>\n",
       "      <td>2016-11-30 06:01:00</td>\n",
       "      <td>A</td>\n",
       "      <td>3</td>\n",
       "    </tr>\n",
       "    <tr>\n",
       "      <th>244</th>\n",
       "      <td>Elvis Presley</td>\n",
       "      <td>A Big Hunk O' Love</td>\n",
       "      <td>2016-11-30 06:04:00</td>\n",
       "      <td>A</td>\n",
       "      <td>2</td>\n",
       "    </tr>\n",
       "    <tr>\n",
       "      <th>243</th>\n",
       "      <td>Johnny Cash</td>\n",
       "      <td>A Boy Named Sue (live)</td>\n",
       "      <td>2016-11-30 06:06:00</td>\n",
       "      <td>A</td>\n",
       "      <td>4</td>\n",
       "    </tr>\n",
       "    <tr>\n",
       "      <th>242</th>\n",
       "      <td>Joni Mitchell</td>\n",
       "      <td>A Case Of You</td>\n",
       "      <td>2016-11-30 06:10:00</td>\n",
       "      <td>A</td>\n",
       "      <td>6</td>\n",
       "    </tr>\n",
       "    <tr>\n",
       "      <th>241</th>\n",
       "      <td>Ernie K-Doe</td>\n",
       "      <td>A Certain Girl</td>\n",
       "      <td>2016-11-30 06:16:00</td>\n",
       "      <td>A</td>\n",
       "      <td>3</td>\n",
       "    </tr>\n",
       "    <tr>\n",
       "      <th>240</th>\n",
       "      <td>Warren Zevon</td>\n",
       "      <td>A Certain Girl</td>\n",
       "      <td>2016-11-30 06:19:00</td>\n",
       "      <td>A</td>\n",
       "      <td>5</td>\n",
       "    </tr>\n",
       "    <tr>\n",
       "      <th>239</th>\n",
       "      <td>Sheryl Crow</td>\n",
       "      <td>A Change</td>\n",
       "      <td>2016-11-30 06:24:00</td>\n",
       "      <td>A</td>\n",
       "      <td>4</td>\n",
       "    </tr>\n",
       "    <tr>\n",
       "      <th>238</th>\n",
       "      <td>Sam Cooke</td>\n",
       "      <td>A Change Is Gonna Come</td>\n",
       "      <td>2016-11-30 06:28:00</td>\n",
       "      <td>A</td>\n",
       "      <td>3</td>\n",
       "    </tr>\n",
       "    <tr>\n",
       "      <th>237</th>\n",
       "      <td>The Beatles</td>\n",
       "      <td>A Day In The Life</td>\n",
       "      <td>2016-11-30 06:31:00</td>\n",
       "      <td>A</td>\n",
       "      <td>5</td>\n",
       "    </tr>\n",
       "    <tr>\n",
       "      <th>236</th>\n",
       "      <td>Ray Barretto</td>\n",
       "      <td>A Deeper Shade Of Soul</td>\n",
       "      <td>2016-11-30 06:36:00</td>\n",
       "      <td>A</td>\n",
       "      <td>4</td>\n",
       "    </tr>\n",
       "  </tbody>\n",
       "</table>"
      ],
      "text/plain": [
       "<IPython.core.display.HTML object>"
      ]
     },
     "execution_count": 21,
     "metadata": {},
     "output_type": "execute_result"
    }
   ],
   "source": [
    "HTML(originals.head(10).to_html())"
   ]
  },
  {
   "cell_type": "markdown",
   "metadata": {},
   "source": [
    "### Saving the data"
   ]
  },
  {
   "cell_type": "code",
   "execution_count": 22,
   "metadata": {
    "collapsed": false
   },
   "outputs": [],
   "source": [
    "seventies_data_file = path.join(data_dir, '70sA2Z.csv')\n",
    "seventies.to_csv(seventies_data_file, index=False)\n",
    "originals_data_file = path.join(data_dir, 'A2Z.csv')\n",
    "originals.to_csv(originals_data_file, index=False)"
   ]
  }
 ],
 "metadata": {
  "kernelspec": {
   "display_name": "Python 2",
   "language": "python",
   "name": "python2"
  },
  "language_info": {
   "codemirror_mode": {
    "name": "ipython",
    "version": 2
   },
   "file_extension": ".py",
   "mimetype": "text/x-python",
   "name": "python",
   "nbconvert_exporter": "python",
   "pygments_lexer": "ipython2",
   "version": "2.7.13"
  }
 },
 "nbformat": 4,
 "nbformat_minor": 2
}
